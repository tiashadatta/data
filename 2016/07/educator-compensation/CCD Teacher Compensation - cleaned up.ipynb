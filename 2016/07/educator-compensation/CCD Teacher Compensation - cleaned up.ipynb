{
 "cells": [
  {
   "cell_type": "markdown",
   "metadata": {},
   "source": [
    "# How educator compensation has changed over time\n",
    "\n",
    "This analyis is based on this NCES report (http://nces.ed.gov/pubsearch/pubsinfo.asp?pubid=2016156) on instructional staff compensation from 1991 to 2011. This report presents nationwide figures, so I wanted to break out Connecticut's data for a  story on TrendCT.org using the following raw data:\n",
    "\n",
    "* Nonfiscal data: https://nces.ed.gov/ccd/stnfis.asp\n",
    "* Fiscal data: https://nces.ed.gov/ccd/stfis.asp\n",
    "* Data documentation here: http://nces.ed.gov/ccd/pdf/stfis111agen.pdf\n",
    "\n",
    "#### A note for nontechnical readers\n",
    "I encourage nontechnical readers to look over my notebooks. There is a lot of code (in gray boxes), but sticking to just the headlines and copy text should still be decipherable for anyone trying to better understand my methodology, including the error checking I did and questions I set out to answer.\n",
    "\n",
    "The reason there is so much code before I get to any conclusions is that the data is stored in a weirdly named zip file containing a spreadsheet for each year on the raw data web pages linked above. In order to download and expand all of those files without losing track of which file went with which year, I had to write a lot of code.\n",
    "\n",
    "#### A note for technical readers\n",
    "I tried and gave up on a different approach to importing this data, which you can see in the other notebooks in this directory. They might be useful, but I'm not making their documentation a priority."
   ]
  },
  {
   "cell_type": "markdown",
   "metadata": {},
   "source": [
    "# Importing data\n",
    "\n",
    "It took a lot of work to import all these sheets, so this is a neater presentation than the in the notebooks I used to figure out how to do it. Skip down to the Analysis portion if you want to just see the calculations for the story"
   ]
  },
  {
   "cell_type": "code",
   "execution_count": 1,
   "metadata": {
    "collapsed": true
   },
   "outputs": [],
   "source": [
    "import pandas as pd, numpy as np, re"
   ]
  },
  {
   "cell_type": "code",
   "execution_count": 2,
   "metadata": {
    "collapsed": true
   },
   "outputs": [],
   "source": [
    "fiscal_links = pd.read_csv(\"data/2/fiscal_links.csv\")\n",
    "nonfiscal_links = pd.read_csv(\"data/2/nonfiscal_links.csv\")"
   ]
  },
  {
   "cell_type": "code",
   "execution_count": 3,
   "metadata": {
    "collapsed": true
   },
   "outputs": [],
   "source": [
    "import urllib2, zipfile, os"
   ]
  },
  {
   "cell_type": "code",
   "execution_count": 4,
   "metadata": {
    "collapsed": true
   },
   "outputs": [],
   "source": [
    "def download(zip_url, path):\n",
    "    response = urllib2.urlopen(zip_url)\n",
    "    zipcontent= response.read()\n",
    "    \n",
    "    with open(\"tmp.zip\", 'w') as f:\n",
    "        f.write(zipcontent)\n",
    "        f.close()\n",
    "    \n",
    "\n",
    "    zip_ref = zipfile.ZipFile(\"tmp.zip\", 'r')\n",
    "    zip_ref.extractall(path)\n",
    "    zip_ref.close()"
   ]
  },
  {
   "cell_type": "code",
   "execution_count": 5,
   "metadata": {
    "collapsed": true
   },
   "outputs": [],
   "source": [
    "def import_excel_file(dir_path):\n",
    "    #print \"Looking for excel files in \" + dir_path\n",
    "    excel_files = []\n",
    "    for filename in os.listdir(dir_path):\n",
    "        if \".xls\" in filename.lower():\n",
    "            excel_files.append(dir_path + \"/\" + filename)\n",
    "            \n",
    "    if len(excel_files) == 0: \n",
    "        return None\n",
    "    elif len(excel_files) == 1:\n",
    "        ret_frame = pd.read_excel(excel_files[0])#[[\"SURVYEAR\",\"STABR\",\"E11\",\"E12\"]]\n",
    "        #ret_frame[\"STABR\"] = ret_frame[\"STABR\"].apply(lambda x: str(x).upper().strip())\n",
    "        ret_frame.columns = map(lambda x: str(x).strip().upper(), ret_frame.columns)\n",
    "        return ret_frame\n",
    "    else:\n",
    "        throw(\"Error: Multiple excel files found in \" + dir_path)"
   ]
  },
  {
   "cell_type": "code",
   "execution_count": 6,
   "metadata": {
    "collapsed": true
   },
   "outputs": [],
   "source": [
    "import re\n",
    "def clean_fiscal_colname(col_name):\n",
    "    return  re.sub(\"FISCAL_YEAR_\",\"\",re.sub(r\"[^\\w]+\",\"_\",re.sub(r\"[\\(\\)]\",\"\",col_name).strip().upper()))"
   ]
  },
  {
   "cell_type": "code",
   "execution_count": 7,
   "metadata": {
    "collapsed": true
   },
   "outputs": [],
   "source": [
    "def get_frameset(folder_path, links_frame):\n",
    "    frame_set = {}\n",
    "    for row, val in links_frame.iterrows():\n",
    "        try:\n",
    "            year = val[\"School year\"]\n",
    "            zip_link = val[\"Excel Link_link\"]\n",
    "        except:\n",
    "            print \"Error\"\n",
    "            print val\n",
    "        path =  folder_path + str(year)\n",
    "        #print path\n",
    "        #download(zip_link, path)\n",
    "        frame_set[clean_fiscal_colname(year)] = import_excel_file(path)\n",
    "        \n",
    "    return frame_set"
   ]
  },
  {
   "cell_type": "code",
   "execution_count": 8,
   "metadata": {
    "collapsed": false
   },
   "outputs": [
    {
     "name": "stdout",
     "output_type": "stream",
     "text": [
      "WARNING *** OLE2 inconsistency: SSCS size is 0 but SSAT size is non-zero\n",
      "WARNING *** OLE2 inconsistency: SSCS size is 0 but SSAT size is non-zero\n"
     ]
    }
   ],
   "source": [
    "fiscal_frames = get_frameset(\"data/2/fiscal/\", fiscal_links)\n",
    "nonfiscal_frames = get_frameset(\"data/2/nonfiscal/\", nonfiscal_links)\n"
   ]
  },
  {
   "cell_type": "code",
   "execution_count": 9,
   "metadata": {
    "collapsed": true
   },
   "outputs": [],
   "source": [
    "# Need this to translate state names to postal abbreviations for \n",
    "# the couple of years when postals weren't used\n",
    "us_state_abbrev = {\n",
    "    'Alabama': 'AL',\n",
    "    'Alaska': 'AK',\n",
    "    'Arizona': 'AZ',\n",
    "    'Arkansas': 'AR',\n",
    "    'California': 'CA',\n",
    "    'Colorado': 'CO',\n",
    "    'Connecticut': 'CT',\n",
    "    'Delaware': 'DE',\n",
    "    'Florida': 'FL',\n",
    "    'Georgia': 'GA',\n",
    "    'Hawaii': 'HI',\n",
    "    'Idaho': 'ID',\n",
    "    'Illinois': 'IL',\n",
    "    'Indiana': 'IN',\n",
    "    'Iowa': 'IA',\n",
    "    'Kansas': 'KS',\n",
    "    'Kentucky': 'KY',\n",
    "    'Louisiana': 'LA',\n",
    "    'Maine': 'ME',\n",
    "    'Maryland': 'MD',\n",
    "    'Massachusetts': 'MA',\n",
    "    'Michigan': 'MI',\n",
    "    'Minnesota': 'MN',\n",
    "    'Mississippi': 'MS',\n",
    "    'Missouri': 'MO',\n",
    "    'Montana': 'MT',\n",
    "    'Nebraska': 'NE',\n",
    "    'Nevada': 'NV',\n",
    "    'New Hampshire': 'NH',\n",
    "    'New Jersey': 'NJ',\n",
    "    'New Mexico': 'NM',\n",
    "    'New York': 'NY',\n",
    "    'North Carolina': 'NC',\n",
    "    'North Dakota': 'ND',\n",
    "    'Ohio': 'OH',\n",
    "    'Oklahoma': 'OK',\n",
    "    'Oregon': 'OR',\n",
    "    'Pennsylvania': 'PA',\n",
    "    'Rhode Island': 'RI',\n",
    "    'South Carolina': 'SC',\n",
    "    'South Dakota': 'SD',\n",
    "    'Tennessee': 'TN',\n",
    "    'Texas': 'TX',\n",
    "    'Utah': 'UT',\n",
    "    'Vermont': 'VT',\n",
    "    'Virginia': 'VA',\n",
    "    'Washington': 'WA',\n",
    "    'West Virginia': 'WV',\n",
    "    'Wisconsin': 'WI',\n",
    "    'Wyoming': 'WY',\n",
    "}"
   ]
  },
  {
   "cell_type": "code",
   "execution_count": 10,
   "metadata": {
    "collapsed": true
   },
   "outputs": [],
   "source": [
    "# This structure describes which columns contain the desired data in each file\n",
    "# since a couple of them don't match\n",
    "good_years = {\n",
    "    \"nonfiscal\":{\n",
    "        \"2013\":{\n",
    "            \"sheet_name\":'2013_14_V_1A',\n",
    "            \"state_column\":\"STABR\",\n",
    "            \"teacher_column\":\"TOTTCH\",\n",
    "            \"aides_column\":\"AIDES\"\n",
    "        },\n",
    "         \"2012\":{\n",
    "            \"sheet_name\":'2013_14_V_1A',\n",
    "            \"state_column\":\"STABR\",\n",
    "            \"teacher_column\":\"TOTTCH\",\n",
    "            \"aides_column\":\"AIDES\"\n",
    "        },\n",
    "        \"2011\":{\n",
    "            \"sheet_name\": '2011_12_V_1A',\n",
    "            \"state_column\":\"STABR\",\n",
    "            \"teacher_column\":\"TOTTCH\",\n",
    "            \"aides_column\":\"AIDES\"\n",
    "        },\n",
    "        \"2010\":{\n",
    "            \"sheet_name\": '2010_11_V_1A',\n",
    "            \"state_column\":\"STABR\",\n",
    "            \"teacher_column\":\"TOTTCH\",\n",
    "            \"aides_column\":\"AIDES\"\n",
    "        },\n",
    "        \"2009\":{\n",
    "            \"sheet_name\": '2009_10_V_1B',\n",
    "            \"state_column\":\"STABR\",\n",
    "            \"teacher_column\":\"TOTTCH\",\n",
    "            \"aides_column\":\"AIDES\"\n",
    "        },\n",
    "        \"2008\":{\n",
    "            \"sheet_name\": '2008_09_V_1C',\n",
    "            \"state_column\":\"STABR\",\n",
    "            \"teacher_column\":\"TOTTCH\",\n",
    "            \"aides_column\":\"AIDES\"\n",
    "        },\n",
    "        \"2007\":{\n",
    "            \"sheet_name\":  '2007_08_V_1B',\n",
    "            \"state_column\":\"STABR\",\n",
    "            \"teacher_column\":\"TOTTCH\",\n",
    "            \"aides_column\":\"AIDES\"\n",
    "        },\n",
    "        \"2006\":{\n",
    "            \"sheet_name\":   '2006_07_V_1C',\n",
    "            \"state_column\":\"STABR\",\n",
    "            \"teacher_column\":\"TOTTCH\",\n",
    "            \"aides_column\":\"AIDES\"\n",
    "        },\n",
    "        \"2005\":{\n",
    "            \"sheet_name\": '2005_06_V_1B',\n",
    "            \"state_column\":\"STABR\",\n",
    "            \"teacher_column\":\"TOTTCH\",\n",
    "            \"aides_column\":\"AIDES\"\n",
    "        },\n",
    "        \"2004\":{\n",
    "            \"sheet_name\": '2004_05_V_1F',\n",
    "            \"state_column\":\"STABR\",\n",
    "            \"teacher_column\":\"TOTTCH\",\n",
    "            \"aides_column\":\"AIDES\"\n",
    "        },\n",
    "        \"2003\":{\n",
    "            \"sheet_name\": '2003_04_V_1B',\n",
    "            \"state_column\":\"STABR\",\n",
    "            \"teacher_column\":\"TOTTCH\",\n",
    "            \"aides_column\":\"AIDES\"\n",
    "        },\n",
    "        \"2002\":{\n",
    "            \"sheet_name\": '2002_03_V_1B',\n",
    "            \"state_column\":\"STABR\",\n",
    "            \"teacher_column\":\"TOTTCH\",\n",
    "            \"aides_column\":\"AIDES\"\n",
    "        },\n",
    "        \"2001\":{\n",
    "            \"sheet_name\":  '2001_02_V_1C',\n",
    "            \"state_column\":\"STABR\",\n",
    "            \"teacher_column\":\"TOTTCH\",\n",
    "            \"aides_column\":\"AIDES\"\n",
    "        },\n",
    "        \"2000\":{\n",
    "            \"sheet_name\":  '2000_01_V_1C',\n",
    "            \"state_column\":\"STABR\",\n",
    "            \"teacher_column\":\"TOTTCH\",\n",
    "            \"aides_column\":\"AIDES\"\n",
    "        },\n",
    "        \"1999\":{\n",
    "            \"sheet_name\": '1999_2000_V_1B',\n",
    "            \"state_column\":\"STABR\",\n",
    "            \"teacher_column\":\"TOTTCH\",\n",
    "            \"aides_column\":\"AIDES\"\n",
    "        },\n",
    "        \"1998\":{\n",
    "            \"sheet_name\": '1998_99_V_1B',\n",
    "            \"state_column\":\"STABR\",\n",
    "            \"teacher_column\":\"TOTTCH\",\n",
    "            \"aides_column\":\"AIDES\"\n",
    "        },\n",
    "        \"1997\":{\n",
    "            \"sheet_name\": '1997_98_V_1C',\n",
    "            \"state_column\":\"STABR\",\n",
    "            \"teacher_column\":\"TOTTCH\",\n",
    "            \"aides_column\":\"AIDES\"\n",
    "        },\n",
    "        \"1996\":{\n",
    "            \"sheet_name\": '1996_97_V_1C',\n",
    "            \"state_column\":\"STABR\",\n",
    "            \"teacher_column\":\"TOTTCH\",\n",
    "            \"aides_column\":\"AIDES\"\n",
    "        },\n",
    "        \"1995\":{\n",
    "            \"sheet_name\": '1995_96_V_1B',\n",
    "            \"state_column\":\"STABR\",\n",
    "            \"teacher_column\":\"TOTTCH\",\n",
    "            \"aides_column\":\"AIDES\"\n",
    "        },\n",
    "        \"1994\":{\n",
    "            \"sheet_name\": '1994_95_V_1B',\n",
    "            \"state_column\":\"STATE\",\n",
    "            \"teacher_column\":\"TOTTCH\",\n",
    "            \"aides_column\":\"AIDES\"\n",
    "        },\n",
    "        \"1993\":{\n",
    "            \"sheet_name\": '1993_94_V_1B',\n",
    "            \"state_column\":\"STATE\",\n",
    "            \"teacher_column\":\"TOTTCH\",\n",
    "            \"aides_column\":\"AIDES\"\n",
    "        },\n",
    "        \"1992\":{\n",
    "            \"sheet_name\": '1992_93_V_1C',\n",
    "            \"state_column\":\"STABR\",\n",
    "            \"teacher_column\":\"TOTTCH\",\n",
    "            \"aides_column\":\"AIDES\"\n",
    "        },\n",
    "        \"1991\":{\n",
    "            \"sheet_name\": '1991_92_V_1C',\n",
    "            \"state_column\":\"STABR\",\n",
    "            \"teacher_column\":'TOTAL TEACHERS', \n",
    "            \"aides_column\":'INSTRUCTIONAL AIDES',\n",
    "        }\n",
    "    },\n",
    "    \"fiscal\":{\n",
    "        \"2013\":{\n",
    "            \"sheet_name\": '2013_V_1A_PROVISIONAL',\n",
    "            \"state_column\":\"STABR\",\n",
    "            \"E11_column\":\"E11\",\n",
    "            \"E12_column\":\"E12\",\n",
    "        },\n",
    "        \"2012\":{\n",
    "            \"sheet_name\": '2012_V_1A_PROVISIONAL',\n",
    "            \"state_column\":\"STABR\",\n",
    "            \"E11_column\":\"E11\",\n",
    "            \"E12_column\":\"E12\",\n",
    "        },\n",
    "        \"2011\":{\n",
    "            \"sheet_name\":'2011_V_1A_PRELIMINARY',\n",
    "            \"state_column\":\"STABR\",\n",
    "            \"E11_column\":\"E11\",\n",
    "            \"E12_column\":\"E12\",        \n",
    "        },\n",
    "        \"2010\":{\n",
    "            \"sheet_name\":'2010_V_1A_PROVISIONAL',\n",
    "            \"state_column\":\"STABR\",\n",
    "            \"E11_column\":\"E11\",\n",
    "            \"E12_column\":\"E12\",        \n",
    "        },\n",
    "        \"2009\":{\n",
    "            \"sheet_name\":'2009_V_1B_REVISED',\n",
    "            \"state_column\":\"STABR\",\n",
    "            \"E11_column\":\"E11\",\n",
    "            \"E12_column\":\"E12\",        \n",
    "        },\n",
    "        \"2008\":{\n",
    "            \"sheet_name\":'2008_V_1B_REVISED',\n",
    "            \"state_column\":\"STABR\",\n",
    "            \"E11_column\":\"E11\",\n",
    "            \"E12_column\":\"E12\",        \n",
    "        },\n",
    "        \"2007\":{\n",
    "            \"sheet_name\":'2007_V_1B_REVISED',\n",
    "            \"state_column\":\"STABR\",\n",
    "            \"E11_column\":\"E11\",\n",
    "            \"E12_column\":\"E12\",        \n",
    "        },\n",
    "        \"2006\":{\n",
    "            \"sheet_name\":'2006_V_1B_REVISED',\n",
    "            \"state_column\":\"STABR\",\n",
    "            \"E11_column\":\"E11\",\n",
    "            \"E12_column\":\"E12\",        \n",
    "        },\n",
    "        \"2005\":{\n",
    "            \"sheet_name\":'2005_V_1B_REVISED',\n",
    "            \"state_column\":\"STABR\",\n",
    "            \"E11_column\":\"E11\",\n",
    "            \"E12_column\":\"E12\",        \n",
    "        },\n",
    "        \"2004\":{\n",
    "            \"sheet_name\":'2004_V_1B_REVISED',\n",
    "            \"state_column\":\"STABR\",\n",
    "            \"E11_column\":\"E11\",\n",
    "            \"E12_column\":\"E12\",        \n",
    "        },\n",
    "        \"2003\":{\n",
    "            \"sheet_name\":'2003_V_1B_REVISED',\n",
    "            \"state_column\":\"STABR\",\n",
    "            \"E11_column\":\"E11\",\n",
    "            \"E12_column\":\"E12\",        \n",
    "        },\n",
    "        \"2002\":{\n",
    "            \"sheet_name\":'2002_V_1D_REVISED',\n",
    "            \"state_column\":\"STABR\",\n",
    "            \"E11_column\":\"E11\",\n",
    "            \"E12_column\":\"E12\",        \n",
    "        },\n",
    "        \"2000\":{\n",
    "            \"sheet_name\":'2000_V_1B_REVISED',\n",
    "            \"state_column\":\"STABR\",\n",
    "            \"E11_column\":\"E11\",\n",
    "            \"E12_column\":\"E12\",        \n",
    "        } ,\n",
    "        \"2001\":{\n",
    "            \"sheet_name\":'2001_V_1B_REVISED',#'2000_V_1A_PROVISIONAL',\n",
    "            \"state_column\":\"STABR\",\n",
    "            \"E11_column\":\"E11\",\n",
    "            \"E12_column\":\"E12\",        \n",
    "        },\n",
    "        \"1999\":{\n",
    "            \"sheet_name\":'1999_V_1B_REVISED',\n",
    "            \"state_column\":\"STABR\",\n",
    "            \"E11_column\":\"E11\",\n",
    "            \"E12_column\":\"E12\",        \n",
    "        },\n",
    "        \"1998\":{\n",
    "            \"sheet_name\":'1998_V_1B_REVISED',\n",
    "            \"state_column\":\"STABR\",\n",
    "            \"E11_column\":\"E11\",\n",
    "            \"E12_column\":\"E12\",        \n",
    "        },\n",
    "        \"1997\":{\n",
    "            \"sheet_name\":'1997_V_1B_REVISED',\n",
    "            \"state_column\":\"STABR\",\n",
    "            \"E11_column\":\"E11\",\n",
    "            \"E12_column\":\"E12\",        \n",
    "        },\n",
    "        \"1996\":{\n",
    "            \"sheet_name\":'1996_V_1B_REVISED',\n",
    "            \"state_column\":\"STABR\",\n",
    "            \"E11_column\":\"E11\",\n",
    "            \"E12_column\":\"E12\",        \n",
    "        },\n",
    "        \"1995\":{\n",
    "            \"sheet_name\":'1995_V_1B_REVISED',\n",
    "            \"state_column\":\"STABR\",\n",
    "            \"E11_column\":\"E11\",\n",
    "            \"E12_column\":\"E12\",        \n",
    "        },\n",
    "        \"1994\":{\n",
    "            \"sheet_name\":'1994_V_1B_REVISED',\n",
    "            \"state_column\":\"STABR\",\n",
    "            \"E11_column\":\"E11\",\n",
    "            \"E12_column\":\"E12\",        \n",
    "        },\n",
    "        \"1993\":{\n",
    "            \"sheet_name\":'1993_V_1B_REVISED',\n",
    "            \"state_column\":\"STABR\",\n",
    "            \"E11_column\":\"E11\",\n",
    "            \"E12_column\":\"E12\",        \n",
    "        },\n",
    "        \"1992\":{\n",
    "            \"sheet_name\":'1992_V_1B_REVISED',\n",
    "            \"state_column\":\"STABR\",\n",
    "            \"E11_column\":\"E11\",\n",
    "            \"E12_column\":\"E12\",        \n",
    "        },\n",
    "        \"1991\":{\n",
    "            \"sheet_name\":'1991_V_1B_REVISED',\n",
    "            \"state_column\":\"STABR\",\n",
    "            \"E11_column\":\"E11\",\n",
    "            \"E12_column\":\"E12\",        \n",
    "        } \n",
    "    }\n",
    "}\n",
    "\n",
    "def get_year_nonfiscal(year):\n",
    "    record = good_years[\"nonfiscal\"][year]\n",
    "    sheet_name = record[\"sheet_name\"]\n",
    "    state_column = record[\"state_column\"]\n",
    "    teacher_column = record[\"teacher_column\"]\n",
    "    aides_column = record[\"aides_column\"]\n",
    "\n",
    "    try:\n",
    "        fr = nonfiscal_frames[sheet_name][[state_column,teacher_column,aides_column]]\n",
    "        fr[state_column] = fr[state_column].apply(lambda x: str(x).upper().strip())\n",
    "        fr.columns = \"STATE\",\"TEACHERS\",\"AIDES\"\n",
    "    \n",
    "    except:\n",
    "        print nonfiscal_frames[sheet_name].columns\n",
    "    \n",
    "    #fr[\"YEAR\"] = year\n",
    "    return fr\n",
    "\n",
    "def get_year_fiscal(year):\n",
    "    record = good_years[\"fiscal\"][year]\n",
    "    sheet_name = record[\"sheet_name\"]\n",
    "    \n",
    "    state_column = record[\"state_column\"]\n",
    "    E11_column = record[\"E11_column\"]\n",
    "    E12_column = record[\"E12_column\"]\n",
    "\n",
    "    fr = fiscal_frames[sheet_name][[state_column,E11_column,E12_column]]\n",
    "    fr[state_column] = fr[state_column].apply(lambda x: str(x).upper().strip())\n",
    "    fr.columns = \"STATE\",\"E11\",\"E12\"\n",
    "    #fr[\"YEAR\"] = year\n",
    "    return fr\n",
    "\n",
    "def postal(state_name):\n",
    "    if state_name.title() in us_state_abbrev:\n",
    "        return us_state_abbrev[state_name.title()]\n",
    "    return state_name\n",
    "\n",
    "def get_year(year):\n",
    "    left = get_year_fiscal(year).set_index(\"STATE\")\n",
    "    right = get_year_nonfiscal(year)\n",
    "    \n",
    "    # Convert state names to postal abbreviations\n",
    "    right[\"STATE\"] = right[\"STATE\"].apply(lambda x: postal(x))\n",
    "    right = right.set_index(\"STATE\")\n",
    "\n",
    "    \n",
    "    fr = left.join(right)\n",
    "    fr[\"E11\"] = pd.to_numeric(fr[\"E11\"], errors=\"coerce\")\n",
    "    fr = fr[fr[\"E11\"].notnull()]\n",
    "    fr[\"year\"] = year\n",
    "    return fr"
   ]
  },
  {
   "cell_type": "code",
   "execution_count": 11,
   "metadata": {
    "collapsed": true
   },
   "outputs": [],
   "source": [
    "def get_state_year(state, year):\n",
    "    fr = get_year(str(year))\n",
    "    #fr = fr[fr[\"STATE\"] == state]\n",
    "    return fr.loc[state]\n",
    "\n",
    "def get_state (state):\n",
    "    record = {}\n",
    "    total_dollars = 0\n",
    "    total_educators = 0\n",
    "    for year in range(1991,2014):\n",
    "        record[year] = get_state_year(state, year)[[\"E11\",\"E12\",\"TEACHERS\",\"AIDES\"]]\n",
    "        continue\n",
    "        row = {\n",
    "            \"DOLLARS\": fr[\"E11\"],\n",
    "            \"EDUCATORS\": fr[\"TEACHERS\"]\n",
    "        }\n",
    "        \n",
    "        row = {\n",
    "            state: float(fr[\"E11\"]) / float(fr[\"TEACHERS\"])\n",
    "        }\n",
    "        \n",
    "        try:\n",
    "            #row = (float(fr[\"E11\"]) + float(fr[\"E12\"])) / (float(fr[\"TEACHERS\"]) + float(fr[\"AIDES\"]))\n",
    "            row = (float(fr[\"E11\"]) + float(fr[\"E12\"]))\n",
    "        except:\n",
    "            row = None\n",
    "            \n",
    "        record[year] = row\n",
    "        \n",
    "    return record"
   ]
  },
  {
   "cell_type": "code",
   "execution_count": 12,
   "metadata": {
    "collapsed": false
   },
   "outputs": [
    {
     "name": "stdout",
     "output_type": "stream",
     "text": [
      "Getting: MS\n"
     ]
    },
    {
     "name": "stderr",
     "output_type": "stream",
     "text": [
      "/usr/local/lib/python2.7/site-packages/ipykernel/__main__.py:311: SettingWithCopyWarning: \n",
      "A value is trying to be set on a copy of a slice from a DataFrame.\n",
      "Try using .loc[row_indexer,col_indexer] = value instead\n",
      "\n",
      "See the caveats in the documentation: http://pandas.pydata.org/pandas-docs/stable/indexing.html#indexing-view-versus-copy\n",
      "/usr/local/lib/python2.7/site-packages/ipykernel/__main__.py:293: SettingWithCopyWarning: \n",
      "A value is trying to be set on a copy of a slice from a DataFrame.\n",
      "Try using .loc[row_indexer,col_indexer] = value instead\n",
      "\n",
      "See the caveats in the documentation: http://pandas.pydata.org/pandas-docs/stable/indexing.html#indexing-view-versus-copy\n",
      "/usr/local/lib/python2.7/site-packages/ipykernel/__main__.py:326: SettingWithCopyWarning: \n",
      "A value is trying to be set on a copy of a slice from a DataFrame.\n",
      "Try using .loc[row_indexer,col_indexer] = value instead\n",
      "\n",
      "See the caveats in the documentation: http://pandas.pydata.org/pandas-docs/stable/indexing.html#indexing-view-versus-copy\n"
     ]
    },
    {
     "name": "stdout",
     "output_type": "stream",
     "text": [
      "Getting: OK\n",
      "Getting: DE\n",
      "Getting: MN\n",
      "Getting: IL\n",
      "Getting: AR\n",
      "Getting: NM\n",
      "Getting: IN\n",
      "Getting: LA\n",
      "Getting: TX\n",
      "Getting: WI\n",
      "Getting: KS\n",
      "Getting: CT\n",
      "Getting: CA\n",
      "Getting: WV\n",
      "Getting: GA\n",
      "Getting: ND\n",
      "Getting: PA\n",
      "Getting: AK\n",
      "Getting: MO\n",
      "Getting: SD\n",
      "Getting: CO\n",
      "Getting: NJ\n",
      "Getting: WA\n",
      "Getting: NY\n",
      "Getting: NV\n",
      "Getting: MD\n",
      "Getting: ID\n",
      "Getting: WY\n",
      "Getting: AZ\n",
      "Getting: IA\n",
      "Getting: MI\n",
      "Getting: UT\n",
      "Getting: VA\n",
      "Getting: OR\n",
      "Getting: MT\n",
      "Getting: NH\n",
      "Getting: MA\n",
      "Getting: SC\n",
      "Getting: VT\n",
      "Getting: FL\n",
      "Getting: HI\n",
      "Getting: KY\n",
      "Getting: RI\n",
      "Getting: NE\n",
      "Getting: OH\n",
      "Getting: AL\n",
      "Getting: NC\n",
      "Getting: TN\n",
      "Getting: ME\n"
     ]
    }
   ],
   "source": [
    "all = {}\n",
    "for state_name in us_state_abbrev.keys():\n",
    "    stabr = us_state_abbrev[state_name]\n",
    "    print \"Getting:\", stabr\n",
    "\n",
    "    all[stabr] = get_state(stabr)"
   ]
  },
  {
   "cell_type": "code",
   "execution_count": 13,
   "metadata": {
    "collapsed": true
   },
   "outputs": [],
   "source": [
    "# Return all the postal abbreviations of US states as a list\n",
    "def postals():\n",
    "    ret = []\n",
    "    for state_name in us_state_abbrev:\n",
    "        ret.append(us_state_abbrev[state_name])\n",
    "    return ret\n",
    "all_postals = postals()"
   ]
  },
  {
   "cell_type": "markdown",
   "metadata": {},
   "source": [
    "# Analysis\n",
    "\n",
    "Here's the numer-crunching. It's still code-heavy, so I'll put clear subheds on the output I used in the story for charts and copy."
   ]
  },
  {
   "cell_type": "code",
   "execution_count": 14,
   "metadata": {
    "collapsed": true
   },
   "outputs": [],
   "source": [
    "def sum_col(year, states, col):\n",
    "    total = 0\n",
    "    for state in states:\n",
    "        try: \n",
    "            total += float(all[state][year][col])\n",
    "        except:\n",
    "            print \"ERROR Converting to numeric value: \" + all[state][year][col] + \" in \", state , str(year), \" \" + col\n",
    "            total\n",
    "    return total\n",
    "\n",
    "def sum_salaries(year, states):\n",
    "    return sum_col(year, states, \"E11\")\n",
    "\n",
    "def sum_benefits(year, states):\n",
    "    return sum_col(year, states, \"E12\")\n",
    "\n",
    "def compensation(year, states):\n",
    "    return sum_salaries(year, states) + sum_benefits(year, states)\n",
    "\n",
    "\n",
    "def sum_aides (year, states):\n",
    "    return sum_col (year,states,\"AIDES\")\n",
    "def sum_teachers (year, states):\n",
    "    return sum_col(year, states,\"TEACHERS\")\n",
    "def educators(year, states):\n",
    "    return sum_teachers(year, states) + sum_aides(year, states)\n",
    "\n",
    "def per_teacher(year, states):\n",
    "    return compensation (year, states) / educators(year, states)"
   ]
  },
  {
   "cell_type": "code",
   "execution_count": 15,
   "metadata": {
    "collapsed": true
   },
   "outputs": [],
   "source": [
    "def all_years(f, state):\n",
    "    ret = {}\n",
    "    values = []\n",
    "    indexes = []\n",
    "    for year in range(1991, 2014):\n",
    "        indexes.append(year)\n",
    "        values.append(int(f(year, state)))\n",
    "        ret[year] = f(year, state)\n",
    "    return indexes, values"
   ]
  },
  {
   "cell_type": "code",
   "execution_count": 127,
   "metadata": {
    "collapsed": false
   },
   "outputs": [],
   "source": [
    "from uscpi import UsCpi\n",
    "\n",
    "def inflate(dollars, from_year, to_year=2011):\n",
    "    cpi = UsCpi()\n",
    "    return int(cpi.value_with_inflation(dollars, from_year, to_year))\n",
    "\n",
    "def inflater_2011(row):\n",
    "    #print \"inflating\", row\n",
    "    #print \"---------\"\n",
    "    year = row[\"year\"]\n",
    "    old_dollars = row[\"amount\"]\n",
    "    #print \"inflating\", old_dollars, \" in \", str(year)\n",
    "    cpi = UsCpi()\n",
    "    return int(cpi.value_with_inflation(old_dollars, year, 2011))\n",
    "\n",
    "def pay_timeline(cols):\n",
    "    pay_timeline = all_years(per_teacher, cols)\n",
    "    fr = pd.DataFrame(pay_timeline[1],index=pay_timeline[0]).reset_index()\n",
    "    fr.columns = \"year\",\"amount\"\n",
    "    fr[\"2011 dollars\"] = fr.apply(inflater_2011, axis=1)\n",
    "    return fr\n",
    "    #return fr.to_csv(index=False,sep=\"\\t\")\n",
    "    #return fr[[\"year\",\"2011 dollars\"]].to_csv(index=False,sep=\"\\t\")\n",
    "#inflater_2011(1991, 100)\n",
    "\n",
    "def csvframe(fr):\n",
    "    return fr.to_csv(index=False,sep=\"\\t\")"
   ]
  },
  {
   "cell_type": "code",
   "execution_count": null,
   "metadata": {
    "collapsed": false
   },
   "outputs": [],
   "source": []
  },
  {
   "cell_type": "markdown",
   "metadata": {},
   "source": [
    "# * Pay over time, adjusted for inflation\n",
    "\n",
    "The following two tables show the compensation (salary and benefits) of instructional staff. The first one is CT, and the second is nationwide. It shows both the nominal dollar value in the \"amount\" column\" and the 2011-adjusted dollars.\n",
    "\n",
    "Note that for this and subsequent 2011-adjusted tables, the data in years after 2011 doesn't necessarily make sense"
   ]
  },
  {
   "cell_type": "code",
   "execution_count": 147,
   "metadata": {
    "collapsed": false
   },
   "outputs": [
    {
     "name": "stdout",
     "output_type": "stream",
     "text": [
      "ERROR Converting to numeric value: M in  NV 1991  AIDES\n",
      "ERROR Converting to numeric value: M in  NV 1991  AIDES\n",
      "year\t2011 dollars_CT\t2011 dollars_US\n",
      "1991\t85229\t65691\n",
      "1992\t87325\t65912\n",
      "1993\t86267\t65923\n",
      "1994\t85898\t65683\n",
      "1995\t83550\t66264\n",
      "1996\t81927\t65217\n",
      "1997\t77978\t64954\n",
      "1998\t76769\t64978\n",
      "1999\t76468\t64834\n",
      "2000\t75994\t66090\n",
      "2001\t75854\t67082\n",
      "2002\t78152\t69165\n",
      "2003\t79941\t70331\n",
      "2004\t85464\t69920\n",
      "2005\t87813\t70287\n",
      "2006\t89609\t70805\n",
      "2007\t89216\t72315\n",
      "2008\t77384\t72870\n",
      "2009\t86274\t75385\n",
      "2010\t86559\t77612\n",
      "2011\t86971\t75547\n",
      "2012\t86386\t73136\n",
      "2013\t86882\t73171\n",
      "\n"
     ]
    }
   ],
   "source": [
    "print csvframe(pay_timeline([\"CT\"]).set_index(\"year\")\\\n",
    ".join(pay_timeline(postals()).set_index(\"year\")\n",
    "                                            ,rsuffix=\"_US\",lsuffix=\"_CT\")\\\n",
    "               .reset_index()[[\"year\",\"2011 dollars_CT\",\"2011 dollars_US\"]])"
   ]
  },
  {
   "cell_type": "code",
   "execution_count": 133,
   "metadata": {
    "collapsed": false
   },
   "outputs": [
    {
     "name": "stdout",
     "output_type": "stream",
     "text": [
      "ERROR Converting to numeric value: M in  NV 1991  AIDES\n",
      "ERROR Converting to numeric value: M in  NV 1991  AIDES\n"
     ]
    },
    {
     "data": {
      "text/html": [
       "<div>\n",
       "<table border=\"1\" class=\"dataframe\">\n",
       "  <thead>\n",
       "    <tr style=\"text-align: right;\">\n",
       "      <th></th>\n",
       "      <th>year</th>\n",
       "      <th>amount</th>\n",
       "      <th>2011 dollars</th>\n",
       "    </tr>\n",
       "  </thead>\n",
       "  <tbody>\n",
       "    <tr>\n",
       "      <th>0</th>\n",
       "      <td>1991</td>\n",
       "      <td>39776</td>\n",
       "      <td>65691</td>\n",
       "    </tr>\n",
       "    <tr>\n",
       "      <th>1</th>\n",
       "      <td>1992</td>\n",
       "      <td>41111</td>\n",
       "      <td>65912</td>\n",
       "    </tr>\n",
       "    <tr>\n",
       "      <th>2</th>\n",
       "      <td>1993</td>\n",
       "      <td>42349</td>\n",
       "      <td>65923</td>\n",
       "    </tr>\n",
       "    <tr>\n",
       "      <th>3</th>\n",
       "      <td>1994</td>\n",
       "      <td>43275</td>\n",
       "      <td>65683</td>\n",
       "    </tr>\n",
       "    <tr>\n",
       "      <th>4</th>\n",
       "      <td>1995</td>\n",
       "      <td>44895</td>\n",
       "      <td>66264</td>\n",
       "    </tr>\n",
       "    <tr>\n",
       "      <th>5</th>\n",
       "      <td>1996</td>\n",
       "      <td>45491</td>\n",
       "      <td>65217</td>\n",
       "    </tr>\n",
       "    <tr>\n",
       "      <th>6</th>\n",
       "      <td>1997</td>\n",
       "      <td>46347</td>\n",
       "      <td>64954</td>\n",
       "    </tr>\n",
       "    <tr>\n",
       "      <th>7</th>\n",
       "      <td>1998</td>\n",
       "      <td>47086</td>\n",
       "      <td>64978</td>\n",
       "    </tr>\n",
       "    <tr>\n",
       "      <th>8</th>\n",
       "      <td>1999</td>\n",
       "      <td>48019</td>\n",
       "      <td>64834</td>\n",
       "    </tr>\n",
       "    <tr>\n",
       "      <th>9</th>\n",
       "      <td>2000</td>\n",
       "      <td>50595</td>\n",
       "      <td>66090</td>\n",
       "    </tr>\n",
       "    <tr>\n",
       "      <th>10</th>\n",
       "      <td>2001</td>\n",
       "      <td>52816</td>\n",
       "      <td>67082</td>\n",
       "    </tr>\n",
       "    <tr>\n",
       "      <th>11</th>\n",
       "      <td>2002</td>\n",
       "      <td>55317</td>\n",
       "      <td>69165</td>\n",
       "    </tr>\n",
       "    <tr>\n",
       "      <th>12</th>\n",
       "      <td>2003</td>\n",
       "      <td>57531</td>\n",
       "      <td>70331</td>\n",
       "    </tr>\n",
       "    <tr>\n",
       "      <th>13</th>\n",
       "      <td>2004</td>\n",
       "      <td>58718</td>\n",
       "      <td>69920</td>\n",
       "    </tr>\n",
       "    <tr>\n",
       "      <th>14</th>\n",
       "      <td>2005</td>\n",
       "      <td>61026</td>\n",
       "      <td>70287</td>\n",
       "    </tr>\n",
       "    <tr>\n",
       "      <th>15</th>\n",
       "      <td>2006</td>\n",
       "      <td>63459</td>\n",
       "      <td>70805</td>\n",
       "    </tr>\n",
       "    <tr>\n",
       "      <th>16</th>\n",
       "      <td>2007</td>\n",
       "      <td>66658</td>\n",
       "      <td>72315</td>\n",
       "    </tr>\n",
       "    <tr>\n",
       "      <th>17</th>\n",
       "      <td>2008</td>\n",
       "      <td>69749</td>\n",
       "      <td>72870</td>\n",
       "    </tr>\n",
       "    <tr>\n",
       "      <th>18</th>\n",
       "      <td>2009</td>\n",
       "      <td>71899</td>\n",
       "      <td>75385</td>\n",
       "    </tr>\n",
       "    <tr>\n",
       "      <th>19</th>\n",
       "      <td>2010</td>\n",
       "      <td>75238</td>\n",
       "      <td>77612</td>\n",
       "    </tr>\n",
       "    <tr>\n",
       "      <th>20</th>\n",
       "      <td>2011</td>\n",
       "      <td>75547</td>\n",
       "      <td>75547</td>\n",
       "    </tr>\n",
       "    <tr>\n",
       "      <th>21</th>\n",
       "      <td>2012</td>\n",
       "      <td>74650</td>\n",
       "      <td>73136</td>\n",
       "    </tr>\n",
       "    <tr>\n",
       "      <th>22</th>\n",
       "      <td>2013</td>\n",
       "      <td>75780</td>\n",
       "      <td>73171</td>\n",
       "    </tr>\n",
       "  </tbody>\n",
       "</table>\n",
       "</div>"
      ],
      "text/plain": [
       "    year  amount  2011 dollars\n",
       "0   1991   39776         65691\n",
       "1   1992   41111         65912\n",
       "2   1993   42349         65923\n",
       "3   1994   43275         65683\n",
       "4   1995   44895         66264\n",
       "5   1996   45491         65217\n",
       "6   1997   46347         64954\n",
       "7   1998   47086         64978\n",
       "8   1999   48019         64834\n",
       "9   2000   50595         66090\n",
       "10  2001   52816         67082\n",
       "11  2002   55317         69165\n",
       "12  2003   57531         70331\n",
       "13  2004   58718         69920\n",
       "14  2005   61026         70287\n",
       "15  2006   63459         70805\n",
       "16  2007   66658         72315\n",
       "17  2008   69749         72870\n",
       "18  2009   71899         75385\n",
       "19  2010   75238         77612\n",
       "20  2011   75547         75547\n",
       "21  2012   74650         73136\n",
       "22  2013   75780         73171"
      ]
     },
     "execution_count": 133,
     "metadata": {},
     "output_type": "execute_result"
    }
   ],
   "source": [
    "pay_timeline(postals())"
   ]
  },
  {
   "cell_type": "markdown",
   "metadata": {},
   "source": [
    "# * Was there really a decline in 2007 to 2008 in CT?\n",
    "\n",
    "The table in the previos section shows a nominal and real (inflation-adjusted) decline in compensation costs per educator from 2007 to 2008 which caught my eye. \n",
    "\n",
    "\n",
    "#### Exec summary\n",
    "It turns out there was a 17% increase in the number of instructional staff members (up 9,163 from 53045 to 62208), all but 4 of which were teachers, not aides. Meanwhile, the costs grew 5.6% (245 million), split even with 123 million in benefits and 123 million salaries. But that means the smaller benefit line grew at a faster pace than salaries - up 10.7%, compared with salary costs which moved at 3.8%.\n",
    "\n",
    "#### Checking my work\n",
    "\n",
    "I wanted to make sure that wasn't an error. In the next chunk of code, I verify that my math and code is right in calculating these columns, and then derive the conclusions in the \"Exec summary\" subsection above."
   ]
  },
  {
   "cell_type": "markdown",
   "metadata": {},
   "source": [
    "#### Check 1: Check the math and code\n",
    "\n",
    "I see a big increase in the number of teachers"
   ]
  },
  {
   "cell_type": "code",
   "execution_count": 25,
   "metadata": {
    "collapsed": false
   },
   "outputs": [],
   "source": [
    "def test_year(year):\n",
    "    print \"========================================\"\n",
    "    print \"Testing: \", year\n",
    "    print \"========================================\"\n",
    "    print \n",
    "    print \"-------------------------\"\n",
    "    print \"+ Educatour count tests + \"\n",
    "    print \"-------------------------\"\n",
    "    print \"Total teachers  : \", sum_teachers(year, [\"CT\"])\n",
    "    print \"Total aides     : \", sum_aides(year, [\"CT\"])\n",
    "    print \"Teachers + aides: \", educators(year, [\"CT\"])\n",
    "    print \"Teachers + aides: \", sum_teachers(year, [\"CT\"]) + sum_aides(year, [\"CT\"])\n",
    "    print\n",
    "    print \"---------------------------\"\n",
    "    print \"+ Compensation cost tests +\"\n",
    "    print \"---------------------------\"\n",
    "    print \"Salary costs  :\", sum_salaries(year, [\"CT\"])\n",
    "    print \"Benefits costs:\", sum_benefits(year, [\"CT\"])\n",
    "    print \"Sal + benefits:\", compensation(year,[\"CT\"])\n",
    "    print \"Sal + benefits:\", sum_salaries(year, [\"CT\"]) + sum_benefits(year, [\"CT\"])\n",
    "    print\n",
    "    print \"--------------------------\"\n",
    "    print \"+ Per-teacher cost tests +\"\n",
    "    print \"--------------------------\"\n",
    "    print \"Cost per teacher:\", per_teacher(year, [\"CT\"])\n",
    "    print \"Cost per teacher:\", (sum_salaries(year, [\"CT\"]) \\\n",
    "                                + sum_benefits(year, [\"CT\"])) \\\n",
    "    / (sum_teachers(year, [\"CT\"]) + sum_aides(year, [\"CT\"]))"
   ]
  },
  {
   "cell_type": "code",
   "execution_count": 26,
   "metadata": {
    "collapsed": false
   },
   "outputs": [
    {
     "name": "stdout",
     "output_type": "stream",
     "text": [
      "========================================\n",
      "Testing:  2007\n",
      "========================================\n",
      "\n",
      "-------------------------\n",
      "+ Educatour count tests + \n",
      "-------------------------\n",
      "Total teachers  :  39304.0\n",
      "Total aides     :  13741.0\n",
      "Teachers + aides:  53045.0\n",
      "Teachers + aides:  53045.0\n",
      "\n",
      "---------------------------\n",
      "+ Compensation cost tests +\n",
      "---------------------------\n",
      "Salary costs  : 3221094679.0\n",
      "Benefits costs: 1141204140.0\n",
      "Sal + benefits: 4362298819.0\n",
      "Sal + benefits: 4362298819.0\n",
      "\n",
      "--------------------------\n",
      "+ Per-teacher cost tests +\n",
      "--------------------------\n",
      "Cost per teacher: 82237.7004242\n",
      "Cost per teacher: 82237.7004242\n"
     ]
    }
   ],
   "source": [
    "test_year(2007)"
   ]
  },
  {
   "cell_type": "code",
   "execution_count": 27,
   "metadata": {
    "collapsed": false
   },
   "outputs": [
    {
     "name": "stdout",
     "output_type": "stream",
     "text": [
      "========================================\n",
      "Testing:  2008\n",
      "========================================\n",
      "\n",
      "-------------------------\n",
      "+ Educatour count tests + \n",
      "-------------------------\n",
      "Total teachers  :  48463.0\n",
      "Total aides     :  13745.0\n",
      "Teachers + aides:  62208.0\n",
      "Teachers + aides:  62208.0\n",
      "\n",
      "---------------------------\n",
      "+ Compensation cost tests +\n",
      "---------------------------\n",
      "Salary costs  : 3343802807.0\n",
      "Benefits costs: 1263905104.0\n",
      "Sal + benefits: 4607707911.0\n",
      "Sal + benefits: 4607707911.0\n",
      "\n",
      "--------------------------\n",
      "+ Per-teacher cost tests +\n",
      "--------------------------\n",
      "Cost per teacher: 74069.3787133\n",
      "Cost per teacher: 74069.3787133\n"
     ]
    }
   ],
   "source": [
    "test_year(2008)"
   ]
  },
  {
   "cell_type": "markdown",
   "metadata": {},
   "source": [
    "#### Check 2: Check the imported data against the original spreadsheet files\n",
    "\n",
    "I see that the code and math is working as expected. Now I'm going to manually check the original Excel files and make sure the numbers in the columns line up with the data that was imported. I'll write my findings out to serve as a log as I check the data.\n",
    "\n",
    "* Fiscal 2007: \n",
    "    * Filename: stfis071b.xls\n",
    "    * E11: 3221094679\n",
    "    * E12: 1141204140\n",
    "    * CORRECT\n",
    "* Fiscal 2008:\n",
    "    * Filename: stfis081b.xls\n",
    "    * E11: 3343802807\n",
    "    * E12: 1263905104\n",
    "    * CORRECT\n",
    "* Nonfiscal 2007:\n",
    "    * Filename: st071b.xls\n",
    "    * TOTTCH: 39304\n",
    "    * AIDES: 13741\n",
    "    * CORRECT\n",
    "* Nonfiscal 2008\n",
    "    * Filename: st081c.xls\n",
    "    * TOTTCH: 48463\n",
    "    * AIDES: 13745\n",
    "    * CORRECT\n"
   ]
  },
  {
   "cell_type": "markdown",
   "metadata": {},
   "source": [
    "#### It's not wrong. Summarize the data\n",
    "\n",
    "I confirmed in the above steps that the correct data was imported and computed correctly. So, what makes for the compensation decline? The following code generates a summary of the data"
   ]
  },
  {
   "cell_type": "code",
   "execution_count": 42,
   "metadata": {
    "collapsed": false
   },
   "outputs": [
    {
     "name": "stdout",
     "output_type": "stream",
     "text": [
      "Plain-english summary of change from  2007 to 2008\n",
      "--------------------------------------------------\n",
      "*  BENFT COSTS went from  1141204140.0 to 1263905104.0 . That's a change of 122700964.0 or 10.7518856355 percent.\n",
      "*  EDUCATOR COUNT went from  53045.0 to 62208.0 . That's a change of 9163.0 or 17.2740126308 percent.\n",
      "*  TEACHER COUNT went from  39304.0 to 48463.0 . That's a change of 9159.0 or 23.3029717077 percent.\n",
      "*  TOTAL COSTS went from  4362298819.0 to 4607707911.0 . That's a change of 245409092.0 or 5.62568274624 percent.\n",
      "*  SALARY COSTS went from  3221094679.0 to 3343802807.0 . That's a change of 122708128.0 or 3.80951633617 percent.\n",
      "*  AIDE COUNT went from  13741.0 to 13745.0 . That's a change of 4.0 or 0.0291099628848 percent.\n"
     ]
    }
   ],
   "source": [
    "# Check the # and % change from year to year for:\n",
    "# teacher count, aide count, combined educator count, salary costs and benefit costs\n",
    "import json\n",
    "\n",
    "def summarize (v1, v2):\n",
    "    return {\n",
    "        \"first\": v1,\n",
    "        \"second\": v2,\n",
    "        \"dif\": (v2 - v1),\n",
    "        \"pct\": (v2 - v1) * 100 / v1,\n",
    "    }\n",
    "\n",
    "def change(year1, year2):\n",
    "    \n",
    "    \n",
    "    summary = {\n",
    "        \"TEACHER COUNT\":summarize(sum_teachers(year1,[\"CT\"]),sum_teachers(year2,[\"CT\"])),\n",
    "        \"AIDE COUNT\":summarize(sum_aides(year1,[\"CT\"]),sum_aides(year2,[\"CT\"])),\n",
    "        \"EDUCATOR COUNT\":summarize(educators(year1,[\"CT\"]),educators(year2,[\"CT\"])),\n",
    "        \"SALARY COSTS\":summarize(sum_salaries(year1,[\"CT\"]),sum_salaries(year2,[\"CT\"])),\n",
    "        \"BENFT COSTS\":summarize(sum_benefits(year1,[\"CT\"]),sum_benefits(year2,[\"CT\"])),\n",
    "        \"TOTAL COSTS\":summarize(compensation(year1,[\"CT\"]),compensation(year2,[\"CT\"]))\n",
    "        }\n",
    "    \n",
    "    print \"Plain-english summary of change from \", year1,\"to\",year2\n",
    "    print \"--------------------------------------------------\"\n",
    "    for k in summary.keys():\n",
    "        print \"* \", k + \" went from \", summary[k][\"first\"], \"to\", summary[k][\"second\"],\\\n",
    "        \". That's a change of\", summary[k][\"dif\"],\"or\",summary[k][\"pct\"],\"percent.\"\n",
    "# return \"The number of teachers grew \" \\\n",
    "#+ str(dif_teacher) + \" (\"+ str(pct_teacher) + \"%) from \" \\\n",
    "#+ str(teachers1) + \" to \" + str(teachers2)\n",
    "\n",
    "    return summary\n",
    "\n",
    "summary = change(2007, 2008)\n",
    "#print json.dumps(summary, indent=2)"
   ]
  },
  {
   "cell_type": "markdown",
   "metadata": {},
   "source": [
    "So we can see above that the teacher count grew at a far faster pace (23 %) than the costs (6%). The Aide count barely moved, adding just 4 aides. \n",
    "\n",
    "Does that mean more new teachers at lower salaries? Maybe more part-time teachers made up that total FTE count. Can't say from the data."
   ]
  },
  {
   "cell_type": "markdown",
   "metadata": {
    "collapsed": true
   },
   "source": [
    "# * Total spending on instructional staff over time\n",
    "\n",
    "Here I make sure that the numbers in my data set support the bullet point in (http://nces.ed.gov/pubs2016/2016156.pdf) that says the only year spending on salary and benefit spending (aggregate, not per-teacher cost) declined was from 2010 to 2011. This isn't central to my story, but it would help identify any problems with their or my analysis if I couldn't replicate that conclusion. Indeed, I draw the same conclusion."
   ]
  },
  {
   "cell_type": "code",
   "execution_count": 23,
   "metadata": {
    "collapsed": false
   },
   "outputs": [
    {
     "data": {
      "text/html": [
       "<div>\n",
       "<table border=\"1\" class=\"dataframe\">\n",
       "  <thead>\n",
       "    <tr style=\"text-align: right;\">\n",
       "      <th></th>\n",
       "      <th>year</th>\n",
       "      <th>amount</th>\n",
       "      <th>2011 $</th>\n",
       "    </tr>\n",
       "  </thead>\n",
       "  <tbody>\n",
       "    <tr>\n",
       "      <th>0</th>\n",
       "      <td>1991</td>\n",
       "      <td>112806928363</td>\n",
       "      <td>186304534941</td>\n",
       "    </tr>\n",
       "    <tr>\n",
       "      <th>1</th>\n",
       "      <td>1992</td>\n",
       "      <td>118394428336</td>\n",
       "      <td>189818419924</td>\n",
       "    </tr>\n",
       "    <tr>\n",
       "      <th>2</th>\n",
       "      <td>1993</td>\n",
       "      <td>124847148033</td>\n",
       "      <td>194345969767</td>\n",
       "    </tr>\n",
       "    <tr>\n",
       "      <th>3</th>\n",
       "      <td>1994</td>\n",
       "      <td>130637836016</td>\n",
       "      <td>198283024261</td>\n",
       "    </tr>\n",
       "    <tr>\n",
       "      <th>4</th>\n",
       "      <td>1995</td>\n",
       "      <td>138587727698</td>\n",
       "      <td>204552394230</td>\n",
       "    </tr>\n",
       "    <tr>\n",
       "      <th>5</th>\n",
       "      <td>1996</td>\n",
       "      <td>144571202440</td>\n",
       "      <td>207263873203</td>\n",
       "    </tr>\n",
       "    <tr>\n",
       "      <th>6</th>\n",
       "      <td>1997</td>\n",
       "      <td>152864617313</td>\n",
       "      <td>214238094416</td>\n",
       "    </tr>\n",
       "    <tr>\n",
       "      <th>7</th>\n",
       "      <td>1998</td>\n",
       "      <td>160698507380</td>\n",
       "      <td>221762954303</td>\n",
       "    </tr>\n",
       "    <tr>\n",
       "      <th>8</th>\n",
       "      <td>1999</td>\n",
       "      <td>169347010842</td>\n",
       "      <td>228647942807</td>\n",
       "    </tr>\n",
       "    <tr>\n",
       "      <th>9</th>\n",
       "      <td>2000</td>\n",
       "      <td>180967011605</td>\n",
       "      <td>236391048916</td>\n",
       "    </tr>\n",
       "    <tr>\n",
       "      <th>10</th>\n",
       "      <td>2001</td>\n",
       "      <td>193719536235</td>\n",
       "      <td>246047875557</td>\n",
       "    </tr>\n",
       "    <tr>\n",
       "      <th>11</th>\n",
       "      <td>2002</td>\n",
       "      <td>204185009563</td>\n",
       "      <td>255303901423</td>\n",
       "    </tr>\n",
       "    <tr>\n",
       "      <th>12</th>\n",
       "      <td>2003</td>\n",
       "      <td>214409143101</td>\n",
       "      <td>262114012173</td>\n",
       "    </tr>\n",
       "    <tr>\n",
       "      <th>13</th>\n",
       "      <td>2004</td>\n",
       "      <td>222642292246</td>\n",
       "      <td>265118764296</td>\n",
       "    </tr>\n",
       "    <tr>\n",
       "      <th>14</th>\n",
       "      <td>2005</td>\n",
       "      <td>233728590273</td>\n",
       "      <td>269199566653</td>\n",
       "    </tr>\n",
       "    <tr>\n",
       "      <th>15</th>\n",
       "      <td>2006</td>\n",
       "      <td>245549490751</td>\n",
       "      <td>273976472718</td>\n",
       "    </tr>\n",
       "    <tr>\n",
       "      <th>16</th>\n",
       "      <td>2007</td>\n",
       "      <td>260638574946</td>\n",
       "      <td>282758825562</td>\n",
       "    </tr>\n",
       "    <tr>\n",
       "      <th>17</th>\n",
       "      <td>2008</td>\n",
       "      <td>275480827994</td>\n",
       "      <td>287810118614</td>\n",
       "    </tr>\n",
       "    <tr>\n",
       "      <th>18</th>\n",
       "      <td>2009</td>\n",
       "      <td>283543294134</td>\n",
       "      <td>297291120129</td>\n",
       "    </tr>\n",
       "    <tr>\n",
       "      <th>19</th>\n",
       "      <td>2010</td>\n",
       "      <td>287655562781</td>\n",
       "      <td>296735492884</td>\n",
       "    </tr>\n",
       "    <tr>\n",
       "      <th>20</th>\n",
       "      <td>2011</td>\n",
       "      <td>287529036130</td>\n",
       "      <td>287529036130</td>\n",
       "    </tr>\n",
       "    <tr>\n",
       "      <th>21</th>\n",
       "      <td>2012</td>\n",
       "      <td>286975019513</td>\n",
       "      <td>281156623928</td>\n",
       "    </tr>\n",
       "    <tr>\n",
       "      <th>22</th>\n",
       "      <td>2013</td>\n",
       "      <td>291319116418</td>\n",
       "      <td>281292387556</td>\n",
       "    </tr>\n",
       "  </tbody>\n",
       "</table>\n",
       "</div>"
      ],
      "text/plain": [
       "    year        amount        2011 $\n",
       "0   1991  112806928363  186304534941\n",
       "1   1992  118394428336  189818419924\n",
       "2   1993  124847148033  194345969767\n",
       "3   1994  130637836016  198283024261\n",
       "4   1995  138587727698  204552394230\n",
       "5   1996  144571202440  207263873203\n",
       "6   1997  152864617313  214238094416\n",
       "7   1998  160698507380  221762954303\n",
       "8   1999  169347010842  228647942807\n",
       "9   2000  180967011605  236391048916\n",
       "10  2001  193719536235  246047875557\n",
       "11  2002  204185009563  255303901423\n",
       "12  2003  214409143101  262114012173\n",
       "13  2004  222642292246  265118764296\n",
       "14  2005  233728590273  269199566653\n",
       "15  2006  245549490751  273976472718\n",
       "16  2007  260638574946  282758825562\n",
       "17  2008  275480827994  287810118614\n",
       "18  2009  283543294134  297291120129\n",
       "19  2010  287655562781  296735492884\n",
       "20  2011  287529036130  287529036130\n",
       "21  2012  286975019513  281156623928\n",
       "22  2013  291319116418  281292387556"
      ]
     },
     "execution_count": 23,
     "metadata": {},
     "output_type": "execute_result"
    }
   ],
   "source": [
    "# helper function to make tuple pairs into a dataframe\n",
    "def tupleframe(frame_tuple, columns=False):\n",
    "    return pd.DataFrame(frame_tuple[1],index=frame_tuple[0]).reset_index()\n",
    "\n",
    "fr = tupleframe(all_years(compensation, postals()))\n",
    "fr.columns = \"year\", \"amount\"\n",
    "fr[\"2011 $\"] = fr.apply(inflater_2011, axis=1)\n",
    "fr"
   ]
  },
  {
   "cell_type": "code",
   "execution_count": 28,
   "metadata": {
    "collapsed": false
   },
   "outputs": [
    {
     "data": {
      "text/html": [
       "<div>\n",
       "<table border=\"1\" class=\"dataframe\">\n",
       "  <thead>\n",
       "    <tr style=\"text-align: right;\">\n",
       "      <th></th>\n",
       "      <th>year</th>\n",
       "      <th>amount</th>\n",
       "      <th>2011 $</th>\n",
       "    </tr>\n",
       "  </thead>\n",
       "  <tbody>\n",
       "    <tr>\n",
       "      <th>0</th>\n",
       "      <td>1991</td>\n",
       "      <td>2060646358</td>\n",
       "      <td>3403228569</td>\n",
       "    </tr>\n",
       "    <tr>\n",
       "      <th>1</th>\n",
       "      <td>1992</td>\n",
       "      <td>2221476305</td>\n",
       "      <td>3561629783</td>\n",
       "    </tr>\n",
       "    <tr>\n",
       "      <th>2</th>\n",
       "      <td>1993</td>\n",
       "      <td>2255736547</td>\n",
       "      <td>3511440298</td>\n",
       "    </tr>\n",
       "    <tr>\n",
       "      <th>3</th>\n",
       "      <td>1994</td>\n",
       "      <td>2384781232</td>\n",
       "      <td>3619637689</td>\n",
       "    </tr>\n",
       "    <tr>\n",
       "      <th>4</th>\n",
       "      <td>1995</td>\n",
       "      <td>2467542282</td>\n",
       "      <td>3642037358</td>\n",
       "    </tr>\n",
       "    <tr>\n",
       "      <th>5</th>\n",
       "      <td>1996</td>\n",
       "      <td>2517697877</td>\n",
       "      <td>3609486569</td>\n",
       "    </tr>\n",
       "    <tr>\n",
       "      <th>6</th>\n",
       "      <td>1997</td>\n",
       "      <td>2589442842</td>\n",
       "      <td>3629075909</td>\n",
       "    </tr>\n",
       "    <tr>\n",
       "      <th>7</th>\n",
       "      <td>1998</td>\n",
       "      <td>2710420451</td>\n",
       "      <td>3740363594</td>\n",
       "    </tr>\n",
       "    <tr>\n",
       "      <th>8</th>\n",
       "      <td>1999</td>\n",
       "      <td>2857356593</td>\n",
       "      <td>3857928779</td>\n",
       "    </tr>\n",
       "    <tr>\n",
       "      <th>9</th>\n",
       "      <td>2000</td>\n",
       "      <td>3025098500</td>\n",
       "      <td>3951583225</td>\n",
       "    </tr>\n",
       "    <tr>\n",
       "      <th>10</th>\n",
       "      <td>2001</td>\n",
       "      <td>3202942811</td>\n",
       "      <td>4068135251</td>\n",
       "    </tr>\n",
       "    <tr>\n",
       "      <th>11</th>\n",
       "      <td>2002</td>\n",
       "      <td>3398515208</td>\n",
       "      <td>4249353042</td>\n",
       "    </tr>\n",
       "    <tr>\n",
       "      <th>12</th>\n",
       "      <td>2003</td>\n",
       "      <td>3527085791</td>\n",
       "      <td>4311843210</td>\n",
       "    </tr>\n",
       "    <tr>\n",
       "      <th>13</th>\n",
       "      <td>2004</td>\n",
       "      <td>3696043434</td>\n",
       "      <td>4401187474</td>\n",
       "    </tr>\n",
       "    <tr>\n",
       "      <th>14</th>\n",
       "      <td>2005</td>\n",
       "      <td>3977982804</td>\n",
       "      <td>4581687014</td>\n",
       "    </tr>\n",
       "    <tr>\n",
       "      <th>15</th>\n",
       "      <td>2006</td>\n",
       "      <td>4215510561</td>\n",
       "      <td>4703535367</td>\n",
       "    </tr>\n",
       "    <tr>\n",
       "      <th>16</th>\n",
       "      <td>2007</td>\n",
       "      <td>4362298819</td>\n",
       "      <td>4732524688</td>\n",
       "    </tr>\n",
       "    <tr>\n",
       "      <th>17</th>\n",
       "      <td>2008</td>\n",
       "      <td>4607707911</td>\n",
       "      <td>4813928323</td>\n",
       "    </tr>\n",
       "    <tr>\n",
       "      <th>18</th>\n",
       "      <td>2009</td>\n",
       "      <td>4774880380</td>\n",
       "      <td>5006394317</td>\n",
       "    </tr>\n",
       "    <tr>\n",
       "      <th>19</th>\n",
       "      <td>2010</td>\n",
       "      <td>4916185701</td>\n",
       "      <td>5071366508</td>\n",
       "    </tr>\n",
       "    <tr>\n",
       "      <th>20</th>\n",
       "      <td>2011</td>\n",
       "      <td>5049417843</td>\n",
       "      <td>5049417843</td>\n",
       "    </tr>\n",
       "    <tr>\n",
       "      <th>21</th>\n",
       "      <td>2012</td>\n",
       "      <td>5199471113</td>\n",
       "      <td>5094052251</td>\n",
       "    </tr>\n",
       "    <tr>\n",
       "      <th>22</th>\n",
       "      <td>2013</td>\n",
       "      <td>5305869110</td>\n",
       "      <td>5123249748</td>\n",
       "    </tr>\n",
       "  </tbody>\n",
       "</table>\n",
       "</div>"
      ],
      "text/plain": [
       "    year      amount      2011 $\n",
       "0   1991  2060646358  3403228569\n",
       "1   1992  2221476305  3561629783\n",
       "2   1993  2255736547  3511440298\n",
       "3   1994  2384781232  3619637689\n",
       "4   1995  2467542282  3642037358\n",
       "5   1996  2517697877  3609486569\n",
       "6   1997  2589442842  3629075909\n",
       "7   1998  2710420451  3740363594\n",
       "8   1999  2857356593  3857928779\n",
       "9   2000  3025098500  3951583225\n",
       "10  2001  3202942811  4068135251\n",
       "11  2002  3398515208  4249353042\n",
       "12  2003  3527085791  4311843210\n",
       "13  2004  3696043434  4401187474\n",
       "14  2005  3977982804  4581687014\n",
       "15  2006  4215510561  4703535367\n",
       "16  2007  4362298819  4732524688\n",
       "17  2008  4607707911  4813928323\n",
       "18  2009  4774880380  5006394317\n",
       "19  2010  4916185701  5071366508\n",
       "20  2011  5049417843  5049417843\n",
       "21  2012  5199471113  5094052251\n",
       "22  2013  5305869110  5123249748"
      ]
     },
     "execution_count": 28,
     "metadata": {},
     "output_type": "execute_result"
    }
   ],
   "source": [
    "fr = tupleframe(all_years(compensation, [\"CT\"]))\n",
    "fr.columns = \"year\", \"amount\"\n",
    "fr[\"2011 $\"] = fr.apply(inflater_2011, axis=1)\n",
    "fr"
   ]
  },
  {
   "cell_type": "markdown",
   "metadata": {},
   "source": [
    "# Summarizing the change from 1991 to 2011, without inflation\n",
    "\n",
    "Since I built that handy summary tool to check my work from 2007 to 2008, I'll apply it below to summarize the net change from 1991 to 2011, the span of time looked at in the NCES analysis"
   ]
  },
  {
   "cell_type": "code",
   "execution_count": 47,
   "metadata": {
    "collapsed": false
   },
   "outputs": [
    {
     "name": "stdout",
     "output_type": "stream",
     "text": [
      "Plain-english summary of change from  1991 to 2011\n",
      "--------------------------------------------------\n",
      "*  BENFT COSTS went from  460789724.0 to 1448012365.0 . That's a change of 987222641.0 or 214.245802278 percent.\n",
      "*  EDUCATOR COUNT went from  39930.0 to 58058.01 . That's a change of 18128.01 or 45.3994740796 percent.\n",
      "*  TEACHER COUNT went from  34383.0 to 43804.81 . That's a change of 9421.81 or 27.4025245034 percent.\n",
      "*  TOTAL COSTS went from  2060646358.0 to 5049417843.0 . That's a change of 2988771485.0 or 145.040485642 percent.\n",
      "*  SALARY COSTS went from  1599856634.0 to 3601405478.0 . That's a change of 2001548844.0 or 125.108012897 percent.\n",
      "*  AIDE COUNT went from  5547.0 to 14253.2 . That's a change of 8706.2 or 156.953308094 percent.\n"
     ]
    },
    {
     "data": {
      "text/plain": [
       "{'AIDE COUNT': {'dif': 8706.2,\n",
       "  'first': 5547.0,\n",
       "  'pct': 156.95330809446548,\n",
       "  'second': 14253.2},\n",
       " 'BENFT COSTS': {'dif': 987222641.0,\n",
       "  'first': 460789724.0,\n",
       "  'pct': 214.24580227835116,\n",
       "  'second': 1448012365.0},\n",
       " 'EDUCATOR COUNT': {'dif': 18128.009999999995,\n",
       "  'first': 39930.0,\n",
       "  'pct': 45.399474079639354,\n",
       "  'second': 58058.009999999995},\n",
       " 'SALARY COSTS': {'dif': 2001548844.0,\n",
       "  'first': 1599856634.0,\n",
       "  'pct': 125.10801289711063,\n",
       "  'second': 3601405478.0},\n",
       " 'TEACHER COUNT': {'dif': 9421.809999999998,\n",
       "  'first': 34383.0,\n",
       "  'pct': 27.402524503388296,\n",
       "  'second': 43804.81},\n",
       " 'TOTAL COSTS': {'dif': 2988771485.0,\n",
       "  'first': 2060646358.0,\n",
       "  'pct': 145.04048564164157,\n",
       "  'second': 5049417843.0}}"
      ]
     },
     "execution_count": 47,
     "metadata": {},
     "output_type": "execute_result"
    }
   ],
   "source": [
    "change(1991, 2011)"
   ]
  },
  {
   "cell_type": "markdown",
   "metadata": {},
   "source": [
    "# How costs have changed, with inflation\n",
    "\n",
    "This table shows the total salary plus benefit compensation costs, nominal (\"amount\") and adjusted (\"2011 $\") over time. Values for years after 2011 aren't useful"
   ]
  },
  {
   "cell_type": "code",
   "execution_count": 53,
   "metadata": {
    "collapsed": false
   },
   "outputs": [
    {
     "data": {
      "text/html": [
       "<div>\n",
       "<table border=\"1\" class=\"dataframe\">\n",
       "  <thead>\n",
       "    <tr style=\"text-align: right;\">\n",
       "      <th></th>\n",
       "      <th>year</th>\n",
       "      <th>amount</th>\n",
       "      <th>2011 $</th>\n",
       "    </tr>\n",
       "  </thead>\n",
       "  <tbody>\n",
       "    <tr>\n",
       "      <th>0</th>\n",
       "      <td>1991</td>\n",
       "      <td>2060646358</td>\n",
       "      <td>3403228569</td>\n",
       "    </tr>\n",
       "    <tr>\n",
       "      <th>1</th>\n",
       "      <td>1992</td>\n",
       "      <td>2221476305</td>\n",
       "      <td>3561629783</td>\n",
       "    </tr>\n",
       "    <tr>\n",
       "      <th>2</th>\n",
       "      <td>1993</td>\n",
       "      <td>2255736547</td>\n",
       "      <td>3511440298</td>\n",
       "    </tr>\n",
       "    <tr>\n",
       "      <th>3</th>\n",
       "      <td>1994</td>\n",
       "      <td>2384781232</td>\n",
       "      <td>3619637689</td>\n",
       "    </tr>\n",
       "    <tr>\n",
       "      <th>4</th>\n",
       "      <td>1995</td>\n",
       "      <td>2467542282</td>\n",
       "      <td>3642037358</td>\n",
       "    </tr>\n",
       "    <tr>\n",
       "      <th>5</th>\n",
       "      <td>1996</td>\n",
       "      <td>2517697877</td>\n",
       "      <td>3609486569</td>\n",
       "    </tr>\n",
       "    <tr>\n",
       "      <th>6</th>\n",
       "      <td>1997</td>\n",
       "      <td>2589442842</td>\n",
       "      <td>3629075909</td>\n",
       "    </tr>\n",
       "    <tr>\n",
       "      <th>7</th>\n",
       "      <td>1998</td>\n",
       "      <td>2710420451</td>\n",
       "      <td>3740363594</td>\n",
       "    </tr>\n",
       "    <tr>\n",
       "      <th>8</th>\n",
       "      <td>1999</td>\n",
       "      <td>2857356593</td>\n",
       "      <td>3857928779</td>\n",
       "    </tr>\n",
       "    <tr>\n",
       "      <th>9</th>\n",
       "      <td>2000</td>\n",
       "      <td>3025098500</td>\n",
       "      <td>3951583225</td>\n",
       "    </tr>\n",
       "    <tr>\n",
       "      <th>10</th>\n",
       "      <td>2001</td>\n",
       "      <td>3202942811</td>\n",
       "      <td>4068135251</td>\n",
       "    </tr>\n",
       "    <tr>\n",
       "      <th>11</th>\n",
       "      <td>2002</td>\n",
       "      <td>3398515208</td>\n",
       "      <td>4249353042</td>\n",
       "    </tr>\n",
       "    <tr>\n",
       "      <th>12</th>\n",
       "      <td>2003</td>\n",
       "      <td>3527085791</td>\n",
       "      <td>4311843210</td>\n",
       "    </tr>\n",
       "    <tr>\n",
       "      <th>13</th>\n",
       "      <td>2004</td>\n",
       "      <td>3696043434</td>\n",
       "      <td>4401187474</td>\n",
       "    </tr>\n",
       "    <tr>\n",
       "      <th>14</th>\n",
       "      <td>2005</td>\n",
       "      <td>3977982804</td>\n",
       "      <td>4581687014</td>\n",
       "    </tr>\n",
       "    <tr>\n",
       "      <th>15</th>\n",
       "      <td>2006</td>\n",
       "      <td>4215510561</td>\n",
       "      <td>4703535367</td>\n",
       "    </tr>\n",
       "    <tr>\n",
       "      <th>16</th>\n",
       "      <td>2007</td>\n",
       "      <td>4362298819</td>\n",
       "      <td>4732524688</td>\n",
       "    </tr>\n",
       "    <tr>\n",
       "      <th>17</th>\n",
       "      <td>2008</td>\n",
       "      <td>4607707911</td>\n",
       "      <td>4813928323</td>\n",
       "    </tr>\n",
       "    <tr>\n",
       "      <th>18</th>\n",
       "      <td>2009</td>\n",
       "      <td>4774880380</td>\n",
       "      <td>5006394317</td>\n",
       "    </tr>\n",
       "    <tr>\n",
       "      <th>19</th>\n",
       "      <td>2010</td>\n",
       "      <td>4916185701</td>\n",
       "      <td>5071366508</td>\n",
       "    </tr>\n",
       "    <tr>\n",
       "      <th>20</th>\n",
       "      <td>2011</td>\n",
       "      <td>5049417843</td>\n",
       "      <td>5049417843</td>\n",
       "    </tr>\n",
       "    <tr>\n",
       "      <th>21</th>\n",
       "      <td>2012</td>\n",
       "      <td>5199471113</td>\n",
       "      <td>5094052251</td>\n",
       "    </tr>\n",
       "    <tr>\n",
       "      <th>22</th>\n",
       "      <td>2013</td>\n",
       "      <td>5305869110</td>\n",
       "      <td>5123249748</td>\n",
       "    </tr>\n",
       "  </tbody>\n",
       "</table>\n",
       "</div>"
      ],
      "text/plain": [
       "    year      amount      2011 $\n",
       "0   1991  2060646358  3403228569\n",
       "1   1992  2221476305  3561629783\n",
       "2   1993  2255736547  3511440298\n",
       "3   1994  2384781232  3619637689\n",
       "4   1995  2467542282  3642037358\n",
       "5   1996  2517697877  3609486569\n",
       "6   1997  2589442842  3629075909\n",
       "7   1998  2710420451  3740363594\n",
       "8   1999  2857356593  3857928779\n",
       "9   2000  3025098500  3951583225\n",
       "10  2001  3202942811  4068135251\n",
       "11  2002  3398515208  4249353042\n",
       "12  2003  3527085791  4311843210\n",
       "13  2004  3696043434  4401187474\n",
       "14  2005  3977982804  4581687014\n",
       "15  2006  4215510561  4703535367\n",
       "16  2007  4362298819  4732524688\n",
       "17  2008  4607707911  4813928323\n",
       "18  2009  4774880380  5006394317\n",
       "19  2010  4916185701  5071366508\n",
       "20  2011  5049417843  5049417843\n",
       "21  2012  5199471113  5094052251\n",
       "22  2013  5305869110  5123249748"
      ]
     },
     "execution_count": 53,
     "metadata": {},
     "output_type": "execute_result"
    }
   ],
   "source": [
    "# Adjust the \"amount\" column in a table with \"year\" and \"amount\" columns\n",
    "def adjust_2011(frame):\n",
    "    fr = pd.DataFrame(frame[1],\n",
    "                      index=frame[0]).reset_index()\n",
    "\n",
    "    fr.columns = \"year\",\"amount\"\n",
    "    fr[\"2011 $\"] = fr.apply(inflater_2011, axis=1)\n",
    "    return fr\n",
    "\n",
    "adjust_2011(all_years(compensation,[\"CT\"]))"
   ]
  },
  {
   "cell_type": "code",
   "execution_count": null,
   "metadata": {
    "collapsed": true
   },
   "outputs": [],
   "source": []
  },
  {
   "cell_type": "markdown",
   "metadata": {},
   "source": []
  },
  {
   "cell_type": "markdown",
   "metadata": {},
   "source": [
    "# How much did the cost of salaries and benefits change from 1991 to 2011 after accounting for inflation?\n",
    "\n",
    "Here's the two pertinant years from the table above:\n",
    "\n",
    "| Year | Nominal | 2011 $ |\n",
    "|---|---|---|\n",
    "| 1991| 2060646358 |\t3403228569\n",
    "| 2011 | 5049417843 | 5049417843 | \n",
    "\n",
    "From the below computation we see that that's a 48% increase."
   ]
  },
  {
   "cell_type": "code",
   "execution_count": 49,
   "metadata": {
    "collapsed": false
   },
   "outputs": [
    {
     "data": {
      "text/plain": [
       "{'dif': 1646189274, 'first': 3403228569, 'pct': 48, 'second': 5049417843}"
      ]
     },
     "execution_count": 49,
     "metadata": {},
     "output_type": "execute_result"
    }
   ],
   "source": [
    "summarize(3403228569, 5049417843)"
   ]
  },
  {
   "cell_type": "code",
   "execution_count": 83,
   "metadata": {
    "collapsed": false
   },
   "outputs": [
    {
     "data": {
      "text/plain": [
       "{'dif': 1646189274.0,\n",
       " 'first': 3403228569,\n",
       " 'pct': 48.37139911774172,\n",
       " 'second': 5049417843.0}"
      ]
     },
     "execution_count": 83,
     "metadata": {},
     "output_type": "execute_result"
    }
   ],
   "source": [
    "# The same calculation utilizing functions made for previos work\n",
    "summarize(inflate(compensation(1991,[\"CT\"]),1991),\n",
    "         compensation(2011, [\"CT\"]))"
   ]
  },
  {
   "cell_type": "markdown",
   "metadata": {},
   "source": [
    "#### Break out the salaries change over time\n",
    "\n",
    "From the below computation we see salaries went from 2642218439 to 3601405478 (in 2011 dollars), a 36% increase"
   ]
  },
  {
   "cell_type": "code",
   "execution_count": 76,
   "metadata": {
    "collapsed": false
   },
   "outputs": [
    {
     "data": {
      "text/plain": [
       "{'dif': 959187039.0,\n",
       " 'first': 2642218439,\n",
       " 'pct': 36.3023368863864,\n",
       " 'second': 3601405478.0}"
      ]
     },
     "execution_count": 76,
     "metadata": {},
     "output_type": "execute_result"
    }
   ],
   "source": [
    "summarize(inflate(sum_salaries(1991,[\"CT\"]),1991),\n",
    "         sum_salaries(2011, [\"CT\"]))"
   ]
  },
  {
   "cell_type": "markdown",
   "metadata": {},
   "source": [
    "#### Break out benefits change over time"
   ]
  },
  {
   "cell_type": "code",
   "execution_count": 82,
   "metadata": {
    "collapsed": false
   },
   "outputs": [
    {
     "data": {
      "text/plain": [
       "{'dif': 687002235.0,\n",
       " 'first': 761010130,\n",
       " 'pct': 90.27504469618559,\n",
       " 'second': 1448012365.0}"
      ]
     },
     "execution_count": 82,
     "metadata": {},
     "output_type": "execute_result"
    }
   ],
   "source": [
    "summarize(inflate(sum_benefits(1991,[\"CT\"]),1991),\n",
    "         sum_benefits(2011, [\"CT\"]))"
   ]
  },
  {
   "cell_type": "markdown",
   "metadata": {},
   "source": [
    "#### Break out the change in teachers over time"
   ]
  },
  {
   "cell_type": "code",
   "execution_count": 86,
   "metadata": {
    "collapsed": false
   },
   "outputs": [
    {
     "data": {
      "text/plain": [
       "{'dif': 9421.809999999998,\n",
       " 'first': 34383.0,\n",
       " 'pct': 27.402524503388296,\n",
       " 'second': 43804.81}"
      ]
     },
     "execution_count": 86,
     "metadata": {},
     "output_type": "execute_result"
    }
   ],
   "source": [
    "summarize(sum_teachers(1991,[\"CT\"]),\n",
    "         sum_teachers(2011, [\"CT\"]))"
   ]
  },
  {
   "cell_type": "markdown",
   "metadata": {},
   "source": [
    "#### Break out the per educator cost change over time\n"
   ]
  },
  {
   "cell_type": "code",
   "execution_count": 99,
   "metadata": {
    "collapsed": false
   },
   "outputs": [
    {
     "data": {
      "text/plain": [
       "{'dif': 1742.941391032873,\n",
       " 'first': 85229,\n",
       " 'pct': 2.0450097866135626,\n",
       " 'second': 86971.94139103287}"
      ]
     },
     "execution_count": 99,
     "metadata": {},
     "output_type": "execute_result"
    }
   ],
   "source": [
    "summarize(inflate(per_teacher(1991,[\"CT\"]),1991),\n",
    "         per_teacher(2011, [\"CT\"]))"
   ]
  },
  {
   "cell_type": "markdown",
   "metadata": {},
   "source": [
    "#### Break out the change in aides over time\n"
   ]
  },
  {
   "cell_type": "code",
   "execution_count": 88,
   "metadata": {
    "collapsed": false
   },
   "outputs": [
    {
     "data": {
      "text/plain": [
       "{'dif': 8706.2, 'first': 5547.0, 'pct': 156.95330809446548, 'second': 14253.2}"
      ]
     },
     "execution_count": 88,
     "metadata": {},
     "output_type": "execute_result"
    }
   ],
   "source": [
    "summarize(sum_aides(1991,[\"CT\"]),\n",
    "         sum_aides(2011, [\"CT\"]))"
   ]
  },
  {
   "cell_type": "code",
   "execution_count": 89,
   "metadata": {
    "collapsed": false
   },
   "outputs": [
    {
     "data": {
      "text/plain": [
       "{'dif': 18128.009999999995,\n",
       " 'first': 39930.0,\n",
       " 'pct': 45.399474079639354,\n",
       " 'second': 58058.009999999995}"
      ]
     },
     "execution_count": 89,
     "metadata": {},
     "output_type": "execute_result"
    }
   ],
   "source": [
    "summarize(educators(1991,[\"CT\"]),\n",
    "         educators(2011, [\"CT\"]))"
   ]
  },
  {
   "cell_type": "markdown",
   "metadata": {},
   "source": [
    "#### Proportion of aides to all educators in 1991 and 2011\n"
   ]
  },
  {
   "cell_type": "code",
   "execution_count": 116,
   "metadata": {
    "collapsed": false
   },
   "outputs": [
    {
     "data": {
      "text/plain": [
       "13.891810668670173"
      ]
     },
     "execution_count": 116,
     "metadata": {},
     "output_type": "execute_result"
    }
   ],
   "source": [
    "sum_aides(1991,[\"CT\"]) * 100 / educators(1991,[\"CT\"])"
   ]
  },
  {
   "cell_type": "code",
   "execution_count": 117,
   "metadata": {
    "collapsed": false
   },
   "outputs": [
    {
     "data": {
      "text/plain": [
       "24.549928597277106"
      ]
     },
     "execution_count": 117,
     "metadata": {},
     "output_type": "execute_result"
    }
   ],
   "source": [
    "sum_aides(2011,[\"CT\"]) * 100 / educators(2011,[\"CT\"])"
   ]
  },
  {
   "cell_type": "markdown",
   "metadata": {},
   "source": [
    "#### The number of aides has increased far faster than the number of teachers\n",
    "\n",
    "This is intersting. If aides make up a larger share of the workforce, one would expect that to bring down the cost per instructional staff member, assuming aides are paid less than teachers. This could account for why the cost per employee has basically treaded water with inflation.\n",
    "\n",
    "We can see from the computation below that the number of aides did grow far faster than teachers nationwide, but not nearly as fast as the rate in Connecticut."
   ]
  },
  {
   "cell_type": "code",
   "execution_count": 105,
   "metadata": {
    "collapsed": false
   },
   "outputs": [
    {
     "name": "stdout",
     "output_type": "stream",
     "text": [
      "Change in teacher count nationwide\n",
      "{'second': 3096984.4900000007, 'dif': 671087.4900000007, 'pct': 27.66347829277173, 'first': 2425897.0}\n",
      "\n",
      "Change in aide count nationwide\n",
      "ERROR Converting to numeric value: M in  NV 1991  AIDES\n",
      "{'second': 708931.5899999999, 'dif': 298817.58999999985, 'pct': 72.86207981195469, 'first': 410114.0}\n",
      "\n",
      "Change in combined educator count nationwide\n",
      "ERROR Converting to numeric value: M in  NV 1991  AIDES\n",
      "{'second': 3805916.0800000005, 'dif': 969905.0800000005, 'pct': 34.19962334419721, 'first': 2836011.0}\n"
     ]
    }
   ],
   "source": [
    "print \"Change in teacher count nationwide\"\n",
    "print summarize(sum_teachers(1991,postals()),\n",
    "         sum_teachers(2011, postals()))\n",
    "print\n",
    "print \"Change in aide count nationwide\"\n",
    "print summarize(sum_aides(1991,postals()),\n",
    "         sum_aides(2011, postals()))\n",
    "print\n",
    "print \"Change in combined educator count nationwide\"\n",
    "print summarize(educators(1991,postals()),\n",
    "         educators(2011, postals()))"
   ]
  },
  {
   "cell_type": "markdown",
   "metadata": {},
   "source": [
    "#### What's the proportion of aides to all educators nationwide"
   ]
  },
  {
   "cell_type": "code",
   "execution_count": 115,
   "metadata": {
    "collapsed": false
   },
   "outputs": [
    {
     "name": "stdout",
     "output_type": "stream",
     "text": [
      "ERROR Converting to numeric value: M in  NV 1991  AIDES\n",
      "ERROR Converting to numeric value: M in  NV 1991  AIDES\n"
     ]
    },
    {
     "data": {
      "text/plain": [
       "14.460945320733947"
      ]
     },
     "execution_count": 115,
     "metadata": {},
     "output_type": "execute_result"
    }
   ],
   "source": [
    "sum_aides(1991,postals()) * 100 / educators(1991,postals())"
   ]
  },
  {
   "cell_type": "code",
   "execution_count": 114,
   "metadata": {
    "collapsed": false
   },
   "outputs": [
    {
     "data": {
      "text/plain": [
       "18.62709463630632"
      ]
     },
     "execution_count": 114,
     "metadata": {},
     "output_type": "execute_result"
    }
   ],
   "source": [
    "sum_aides(2011,postals()) * 100 / educators(2011,postals())"
   ]
  },
  {
   "cell_type": "code",
   "execution_count": 91,
   "metadata": {
    "collapsed": false
   },
   "outputs": [
    {
     "data": {
      "text/html": [
       "<div>\n",
       "<table border=\"1\" class=\"dataframe\">\n",
       "  <thead>\n",
       "    <tr style=\"text-align: right;\">\n",
       "      <th></th>\n",
       "      <th>index</th>\n",
       "      <th>0</th>\n",
       "    </tr>\n",
       "  </thead>\n",
       "  <tbody>\n",
       "    <tr>\n",
       "      <th>0</th>\n",
       "      <td>1991</td>\n",
       "      <td>5547</td>\n",
       "    </tr>\n",
       "    <tr>\n",
       "      <th>1</th>\n",
       "      <td>1992</td>\n",
       "      <td>6592</td>\n",
       "    </tr>\n",
       "    <tr>\n",
       "      <th>2</th>\n",
       "      <td>1993</td>\n",
       "      <td>6178</td>\n",
       "    </tr>\n",
       "    <tr>\n",
       "      <th>3</th>\n",
       "      <td>1994</td>\n",
       "      <td>6822</td>\n",
       "    </tr>\n",
       "    <tr>\n",
       "      <th>4</th>\n",
       "      <td>1995</td>\n",
       "      <td>7520</td>\n",
       "    </tr>\n",
       "    <tr>\n",
       "      <th>5</th>\n",
       "      <td>1996</td>\n",
       "      <td>7506</td>\n",
       "    </tr>\n",
       "    <tr>\n",
       "      <th>6</th>\n",
       "      <td>1997</td>\n",
       "      <td>8881</td>\n",
       "    </tr>\n",
       "    <tr>\n",
       "      <th>7</th>\n",
       "      <td>1998</td>\n",
       "      <td>9950</td>\n",
       "    </tr>\n",
       "    <tr>\n",
       "      <th>8</th>\n",
       "      <td>1999</td>\n",
       "      <td>10544</td>\n",
       "    </tr>\n",
       "    <tr>\n",
       "      <th>9</th>\n",
       "      <td>2000</td>\n",
       "      <td>10954</td>\n",
       "    </tr>\n",
       "    <tr>\n",
       "      <th>10</th>\n",
       "      <td>2001</td>\n",
       "      <td>11857</td>\n",
       "    </tr>\n",
       "    <tr>\n",
       "      <th>11</th>\n",
       "      <td>2002</td>\n",
       "      <td>12076</td>\n",
       "    </tr>\n",
       "    <tr>\n",
       "      <th>12</th>\n",
       "      <td>2003</td>\n",
       "      <td>11567</td>\n",
       "    </tr>\n",
       "    <tr>\n",
       "      <th>13</th>\n",
       "      <td>2004</td>\n",
       "      <td>12689</td>\n",
       "    </tr>\n",
       "    <tr>\n",
       "      <th>14</th>\n",
       "      <td>2005</td>\n",
       "      <td>12488</td>\n",
       "    </tr>\n",
       "    <tr>\n",
       "      <th>15</th>\n",
       "      <td>2006</td>\n",
       "      <td>13374</td>\n",
       "    </tr>\n",
       "    <tr>\n",
       "      <th>16</th>\n",
       "      <td>2007</td>\n",
       "      <td>13741</td>\n",
       "    </tr>\n",
       "    <tr>\n",
       "      <th>17</th>\n",
       "      <td>2008</td>\n",
       "      <td>13745</td>\n",
       "    </tr>\n",
       "    <tr>\n",
       "      <th>18</th>\n",
       "      <td>2009</td>\n",
       "      <td>14435</td>\n",
       "    </tr>\n",
       "    <tr>\n",
       "      <th>19</th>\n",
       "      <td>2010</td>\n",
       "      <td>15636</td>\n",
       "    </tr>\n",
       "    <tr>\n",
       "      <th>20</th>\n",
       "      <td>2011</td>\n",
       "      <td>14253</td>\n",
       "    </tr>\n",
       "    <tr>\n",
       "      <th>21</th>\n",
       "      <td>2012</td>\n",
       "      <td>15524</td>\n",
       "    </tr>\n",
       "    <tr>\n",
       "      <th>22</th>\n",
       "      <td>2013</td>\n",
       "      <td>15524</td>\n",
       "    </tr>\n",
       "  </tbody>\n",
       "</table>\n",
       "</div>"
      ],
      "text/plain": [
       "    index      0\n",
       "0    1991   5547\n",
       "1    1992   6592\n",
       "2    1993   6178\n",
       "3    1994   6822\n",
       "4    1995   7520\n",
       "5    1996   7506\n",
       "6    1997   8881\n",
       "7    1998   9950\n",
       "8    1999  10544\n",
       "9    2000  10954\n",
       "10   2001  11857\n",
       "11   2002  12076\n",
       "12   2003  11567\n",
       "13   2004  12689\n",
       "14   2005  12488\n",
       "15   2006  13374\n",
       "16   2007  13741\n",
       "17   2008  13745\n",
       "18   2009  14435\n",
       "19   2010  15636\n",
       "20   2011  14253\n",
       "21   2012  15524\n",
       "22   2013  15524"
      ]
     },
     "execution_count": 91,
     "metadata": {},
     "output_type": "execute_result"
    }
   ],
   "source": [
    "tupleframe(all_years(sum_aides, [\"CT\"]))"
   ]
  },
  {
   "cell_type": "markdown",
   "metadata": {},
   "source": [
    "# Now let's do the same thing for 1993 to 2013\n",
    "\n",
    "Since more recent data is avaialable"
   ]
  },
  {
   "cell_type": "code",
   "execution_count": 103,
   "metadata": {
    "collapsed": false
   },
   "outputs": [
    {
     "name": "stdout",
     "output_type": "stream",
     "text": [
      "Salary cost change\n",
      "{'second': 3671907651.0, 'dif': 693296125.0, 'pct': 23.275815558634886, 'first': 2978611526}\n",
      "\n",
      "Benefits cost change\n",
      "{'second': 1633961459.0, 'dif': 975966628.0, 'pct': 148.32436092495686, 'first': 657994831}\n",
      "\n",
      "Combined cost change\n",
      "{'second': 5305869110.0, 'dif': 1669262752.0, 'pct': 45.90166181522141, 'first': 3636606358}\n",
      "\n",
      "Per instructor cost change\n",
      "{'second': 89979.19896187288, 'dif': 637.198961872884, 'pct': 0.7132132276789013, 'first': 89342}\n"
     ]
    }
   ],
   "source": [
    "print \"Salary cost change\"\n",
    "print summarize(inflate(sum_salaries(1993,[\"CT\"]),1993, 2013),\n",
    "         sum_salaries(2013, [\"CT\"]))\n",
    "print\n",
    "print \"Benefits cost change\"\n",
    "print summarize(inflate(sum_benefits(1993,[\"CT\"]),1993, 2013),\n",
    "         sum_benefits(2013, [\"CT\"]))\n",
    "print\n",
    "print \"Combined cost change\"\n",
    "print summarize(inflate(compensation(1993,[\"CT\"]),1993, 2013),\n",
    "         compensation(2013, [\"CT\"]))\n",
    "print\n",
    "print \"Per instructor cost change\"\n",
    "print summarize(inflate(per_teacher(1993,[\"CT\"]),1993, 2013),\n",
    "         per_teacher(2013, [\"CT\"]))\n",
    "\n"
   ]
  },
  {
   "cell_type": "markdown",
   "metadata": {},
   "source": [
    "# Timeline of salaries and benefits\n"
   ]
  },
  {
   "cell_type": "code",
   "execution_count": 204,
   "metadata": {
    "collapsed": false
   },
   "outputs": [],
   "source": [
    "def inflate_timeline_2011(f, states):\n",
    "    df = tupleframe(all_years(f, states))\n",
    "    df.columns = \"year\", \"amount\"\n",
    "    df[\"2011 $\"] = df.apply(inflater_2011, axis=1)\n",
    "    df = df.drop(\"amount\", axis=1)\n",
    "    return df\n",
    "    \n",
    "def compensation_timeline(states):\n",
    "    total = inflate_timeline_2011(compensation, states)\n",
    "    benefits = inflate_timeline_2011(sum_benefits,states)\n",
    "    salaries = inflate_timeline_2011(sum_salaries,states)\n",
    "\n",
    "    total.columns=\"year\",\"total\"\n",
    "    benefits.columns=\"year\",\"benefits\"\n",
    "    salaries.columns=\"year\",\"salaries\"\n",
    "\n",
    "    total = total.set_index(\"year\")\n",
    "    benefits = benefits.set_index(\"year\")\n",
    "    salaries = salaries.set_index(\"year\")\n",
    "\n",
    "\n",
    "    compensation_timeline = benefits\\\n",
    "    .join(salaries)\\\n",
    "    .join(total)\n",
    "\n",
    "    compensation_timeline[\"ben_pct\"] = compensation_timeline[\"benefits\"] \\\n",
    "    * 100 / compensation_timeline[\"total\"]\n",
    "    compensation_timeline[\"sal_pct\"] = compensation_timeline[\"salaries\"] \\\n",
    "    * 100 / compensation_timeline[\"total\"]\n",
    "    \n",
    "    return compensation_timeline\n",
    "\n",
    "ct_compensation_timeline = compensation_timeline([\"CT\"])\n",
    "us_compensation_timeline = compensation_timeline(postals())\n",
    "\n",
    "#ct_salaries = tupleframe(all_years(compensation, [\"CT\"]))\n",
    "#ct_salaries.columns = \"year\", \"amount\"\n",
    "#ct_salaries[\"2011 $\"] = fr.apply(inflater_2011, axis=1)\n",
    "#ct_salaries = ct_salaries.drop(\"amount\", axis=1)\n",
    "#ct_salaries"
   ]
  },
  {
   "cell_type": "code",
   "execution_count": null,
   "metadata": {
    "collapsed": false
   },
   "outputs": [],
   "source": []
  },
  {
   "cell_type": "code",
   "execution_count": 208,
   "metadata": {
    "collapsed": false
   },
   "outputs": [
    {
     "name": "stdout",
     "output_type": "stream",
     "text": [
      "year\tben_pct_CT\tben_pct_US\n",
      "1991\t22.3614169478\t19.7715844854\n",
      "1992\t18.0832318416\t19.9505942896\n",
      "1993\t18.0936501287\t20.8281138428\n",
      "1994\t18.2522981515\t20.9608909295\n",
      "1995\t18.7697498077\t21.0152134884\n",
      "1996\t18.285998476\t20.904632785\n",
      "1997\t18.5746773257\t20.8765489825\n",
      "1998\t19.0712905864\t20.2909175261\n",
      "1999\t19.4292924245\t20.0752775505\n",
      "2000\t19.9480655251\t19.9782964544\n",
      "2001\t20.4778801982\t20.3861474278\n",
      "2002\t20.895191838\t20.5260465915\n",
      "2003\t21.0872486943\t21.3890603136\n",
      "2004\t22.0666464843\t22.4573606591\n",
      "2005\t24.9307288235\t23.5161694668\n",
      "2006\t26.2947047593\t24.0243290532\n",
      "2007\t26.160613639\t24.5967081256\n",
      "2008\t27.4302349017\t25.1241440899\n",
      "2009\t27.8557091331\t25.0316989211\n",
      "2010\t27.8977446171\t25.6100635631\n",
      "2011\t28.676818002\t26.1299992415\n",
      "2012\t30.8137131238\t26.7881310423\n",
      "2013\t30.7953593443\t27.2335475174\n",
      "\n"
     ]
    }
   ],
   "source": [
    "# This will do for charting the percentage of benefits relative to the overall\n",
    "# compensation costs over time\n",
    "print csvframe(ct_compensation_timeline[[\"ben_pct\"]]\\\n",
    ".join(us_compensation_timeline[[\"ben_pct\"]],rsuffix=\"_US\",lsuffix=\"_CT\").reset_index())"
   ]
  },
  {
   "cell_type": "markdown",
   "metadata": {},
   "source": [
    "# Timeline of share of aides\n",
    "\n",
    "The final table needed to make the last chart: The percentage of aides relative to all teaching staff over time."
   ]
  },
  {
   "cell_type": "code",
   "execution_count": 226,
   "metadata": {
    "collapsed": false
   },
   "outputs": [
    {
     "name": "stdout",
     "output_type": "stream",
     "text": [
      "ERROR Converting to numeric value: M in  NV 1991  AIDES\n",
      "ERROR Converting to numeric value: M in  NV 1991  AIDES\n",
      "ERROR Converting to numeric value: M in  NV 1991  AIDES\n",
      "ERROR Converting to numeric value: M in  NV 1991  AIDES\n"
     ]
    }
   ],
   "source": [
    "def teachers_timeline(states):\n",
    "    teachers = tupleframe(all_years(sum_teachers, states))\n",
    "    aides = tupleframe(all_years(sum_aides, states))\n",
    "    total = tupleframe(all_years(educators, states))\n",
    "    \n",
    "    teachers.columns=\"year\",\"teachers\"\n",
    "    aides.columns=\"year\",\"aides\"\n",
    "    total.columns=\"year\",\"total\"\n",
    "    \n",
    "    teachers = teachers.set_index(\"year\")\n",
    "    aides = aides.set_index(\"year\")\n",
    "    total = total.set_index(\"year\")\n",
    "    \n",
    "    timeline = teachers.join(aides).join(total)\n",
    "    timeline [\"pct_aides\"] = timeline[\"aides\"] * 100 / timeline[\"total\"]\n",
    "    return timeline.reset_index()\n",
    "    \n",
    "ct_teachers_timeline = teachers_timeline([\"CT\"])\n",
    "us_teachers_timeline = teachers_timeline(postals())\n"
   ]
  },
  {
   "cell_type": "code",
   "execution_count": 234,
   "metadata": {
    "collapsed": false
   },
   "outputs": [
    {
     "name": "stdout",
     "output_type": "stream",
     "text": [
      "year\tpct_aides_CT\tpct_aides_US\n",
      "1991\t13.8918106687\t14.4609453207\n",
      "1992\t16.1628049528\t14.8250224753\n",
      "1993\t15.1778694969\t15.2697864788\n",
      "1994\t16.1896625374\t15.6683519094\n",
      "1995\t17.2516632255\t16.001998136\n",
      "1996\t17.0370202238\t16.2321884161\n",
      "1997\t19.0829197018\t16.8710249284\n",
      "1998\t20.4219859612\t17.2210513115\n",
      "1999\t20.8994866306\t17.6035562522\n",
      "2000\t21.0661948536\t17.9000230377\n",
      "2001\t22.1088942756\t18.355186531\n",
      "2002\t22.2099610093\t17.9352740919\n",
      "2003\t21.445389992\t18.3493724551\n",
      "2004\t24.640270307\t18.6241680212\n",
      "2005\t23.9348346909\t18.0791035684\n",
      "2006\t25.4796243022\t18.3069078429\n",
      "2007\t25.9044207748\t18.3217332637\n",
      "2008\t22.0952289095\t18.5527564753\n",
      "2009\t24.8759219687\t18.7593410511\n",
      "2010\t26.6885145169\t19.0955626891\n",
      "2011\t24.5495883427\t18.6270795257\n",
      "2012\t26.3265894483\t19.1581845467\n",
      "2013\t26.3265894483\t19.1581845467\n",
      "\n"
     ]
    }
   ],
   "source": [
    "print csvframe(ct_teachers_timeline[[\"year\",\"pct_aides\"]].set_index(\"year\")\\\n",
    ".join(us_teachers_timeline[[\"year\",\"pct_aides\"]].set_index(\"year\"),\n",
    "     rsuffix=\"_US\",lsuffix=\"_CT\").reset_index())"
   ]
  },
  {
   "cell_type": "code",
   "execution_count": null,
   "metadata": {
    "collapsed": true
   },
   "outputs": [],
   "source": []
  }
 ],
 "metadata": {
  "kernelspec": {
   "display_name": "Python 2",
   "language": "python",
   "name": "python2"
  },
  "language_info": {
   "codemirror_mode": {
    "name": "ipython",
    "version": 2
   },
   "file_extension": ".py",
   "mimetype": "text/x-python",
   "name": "python",
   "nbconvert_exporter": "python",
   "pygments_lexer": "ipython2",
   "version": "2.7.11"
  }
 },
 "nbformat": 4,
 "nbformat_minor": 0
}
